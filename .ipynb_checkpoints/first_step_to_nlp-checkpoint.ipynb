{
 "cells": [
  {
   "cell_type": "code",
   "execution_count": null,
   "metadata": {},
   "outputs": [
    {
     "name": "stderr",
     "output_type": "stream",
     "text": [
      "Using TensorFlow backend.\n"
     ]
    }
   ],
   "source": [
    "import pandas as pd\n",
    "import numpy as np\n",
    "from sklearn.metrics import accuracy_score\n",
    "import nltk\n",
    "import keras\n",
    "from nltk.corpus import stopwords\n",
    "from nltk import word_tokenize\n",
    "from sklearn.feature_extraction.text import TfidfVectorizer,CountVectorizer,TfidfTransformer\n",
    "from keras.layers import Dense\n",
    "from sklearn.metrics import accuracy_score\n",
    "from keras.models import Sequential "
   ]
  },
  {
   "cell_type": "code",
   "execution_count": 2,
   "metadata": {
    "collapsed": true
   },
   "outputs": [
    {
     "data": {
      "text/html": [
       "<div>\n",
       "<style scoped>\n",
       "    .dataframe tbody tr th:only-of-type {\n",
       "        vertical-align: middle;\n",
       "    }\n",
       "\n",
       "    .dataframe tbody tr th {\n",
       "        vertical-align: top;\n",
       "    }\n",
       "\n",
       "    .dataframe thead th {\n",
       "        text-align: right;\n",
       "    }\n",
       "</style>\n",
       "<table border=\"1\" class=\"dataframe\">\n",
       "  <thead>\n",
       "    <tr style=\"text-align: right;\">\n",
       "      <th></th>\n",
       "      <th>description</th>\n",
       "      <th>label</th>\n",
       "    </tr>\n",
       "  </thead>\n",
       "  <tbody>\n",
       "    <tr>\n",
       "      <th>0</th>\n",
       "      <td>♦️ I wish you to stay healthy. Your character,...</td>\n",
       "      <td>0</td>\n",
       "    </tr>\n",
       "    <tr>\n",
       "      <th>1</th>\n",
       "      <td>Les bases de l'algorithmique b Darija vos rema...</td>\n",
       "      <td>0</td>\n",
       "    </tr>\n",
       "    <tr>\n",
       "      <th>2</th>\n",
       "      <td>Corona restrictions causing terrible financial...</td>\n",
       "      <td>0</td>\n",
       "    </tr>\n",
       "    <tr>\n",
       "      <th>3</th>\n",
       "      <td>📣📣AMAZON recrute des conseillers clients à Dom...</td>\n",
       "      <td>1</td>\n",
       "    </tr>\n",
       "    <tr>\n",
       "      <th>4</th>\n",
       "      <td>Great illustration....</td>\n",
       "      <td>0</td>\n",
       "    </tr>\n",
       "    <tr>\n",
       "      <th>5</th>\n",
       "      <td>Great to see companies across Canada stepping ...</td>\n",
       "      <td>0</td>\n",
       "    </tr>\n",
       "    <tr>\n",
       "      <th>6</th>\n",
       "      <td>Le Maroc dont je suis si fier...</td>\n",
       "      <td>0</td>\n",
       "    </tr>\n",
       "    <tr>\n",
       "      <th>7</th>\n",
       "      <td>hashtag#عاجل : لكل من يمكنه المساعدة في تأمين ...</td>\n",
       "      <td>0</td>\n",
       "    </tr>\n",
       "    <tr>\n",
       "      <th>8</th>\n",
       "      <td>I just published the fourth and last blog post...</td>\n",
       "      <td>0</td>\n",
       "    </tr>\n",
       "    <tr>\n",
       "      <th>9</th>\n",
       "      <td>The pain you feel today is the strength you fe...</td>\n",
       "      <td>0</td>\n",
       "    </tr>\n",
       "  </tbody>\n",
       "</table>\n",
       "</div>"
      ],
      "text/plain": [
       "                                         description  label\n",
       "0  ♦️ I wish you to stay healthy. Your character,...      0\n",
       "1  Les bases de l'algorithmique b Darija vos rema...      0\n",
       "2  Corona restrictions causing terrible financial...      0\n",
       "3  📣📣AMAZON recrute des conseillers clients à Dom...      1\n",
       "4                             Great illustration....      0\n",
       "5  Great to see companies across Canada stepping ...      0\n",
       "6                   Le Maroc dont je suis si fier...      0\n",
       "7  hashtag#عاجل : لكل من يمكنه المساعدة في تأمين ...      0\n",
       "8  I just published the fourth and last blog post...      0\n",
       "9  The pain you feel today is the strength you fe...      0"
      ]
     },
     "execution_count": 2,
     "metadata": {},
     "output_type": "execute_result"
    }
   ],
   "source": [
    "#read data\n",
    "data =pd.read_csv('data.csv')\n",
    "data = data[['description','label']]\n",
    "data.head(10)"
   ]
  },
  {
   "cell_type": "code",
   "execution_count": 3,
   "metadata": {},
   "outputs": [],
   "source": [
    "\n",
    "data20 = data[data.label == 1][[\"description\"]].head(20)\n"
   ]
  },
  {
   "cell_type": "code",
   "execution_count": null,
   "metadata": {},
   "outputs": [],
   "source": [
    "\n",
    "Stopwords = {''}\n",
    "Stopwords_fr=set(stopwords.words('french'))\n",
    "Stopwords_eng = set(stopwords.words('english'))\n",
    "add_stop_words = \"all almost also any because cause could do does done don't end for never see soon sorry than ourselves hers between yourself ut again there about once during out very having with they own an be some for do its yours such into of most itself other off is s am for who as from him each the themselves until below are we these your his through don nor me were her more himself this down should our their while above both up to ours had she all no when at any before them same and been have in will on does yourselves then that because what over why so can did not now under he you herself has just where too only myself which those i after few whom t being if theirs my against a by doing it how further was here than a à â abord afin ah ai aie ainsi allaient allo allô allons après assez attendu au aucun aucune aujourd aujourd'hui auquel aura auront aussi autre autres aux auxquelles auxquels avaient avais avait avant avec avoir ayant b bah beaucoup bien bigre boum bravo brrr c ça car ce ceci cela celle celle-ci celle-là celles celles-ci celles-là celui celui-ci celui-là cent cependant certain certaine certaines certains certes ces cet cette ceux ceux-ci ceux-là chacun chaque cher chère chères chers chez chiche chut ci cinq cinquantaine cinquante cinquantième cinquième clac clic combien comme comment compris concernant contre couic crac d da dans de debout dedans dehors delà depuis derrière des dès désormais desquelles desquels dessous dessus deux deuxième deuxièmement devant devers devra différent différente différentes différents dire divers diverse diverses dix dix-huit dixième dix-neuf dix-sept doit doivent donc dont douze douzième dring du duquel durant e effet eh elle elle-même elles elles-mêmes en encore entre envers environ es ès est et etant étaient étais était étant etc été etre être eu euh eux eux-mêmes excepté f façon fais faisaient faisant fait feront fi flac floc font g gens h ha hé hein hélas hem hep hi ho holà hop hormis hors hou houp hue hui huit huitième hum hurrah i il ils importe j je jusqu jusque k l la là laquelle las le lequel les lès lesquelles lesquels leur leurs longtemps lorsque lui lui-même m ma maint mais malgré me même mêmes merci mes mien mienne miennes miens mille mince moi moi-même moins mon moyennant n na ne néanmoins neuf neuvième ni nombreuses nombreux non nos notre nôtre nôtres nous nous-mêmes nul o o| ô oh ohé olé ollé on ont onze onzième ore ou où ouf ouias oust ouste outre p paf pan par parmi partant particulier particulière particulièrement pas passé pendant personne peu peut peuvent peux pff pfft pfut pif plein plouf plus plusieurs plutôt pouah pour pourquoi premier première premièrement près proche psitt puisque q qu quand quant quanta quant-à-soi quarante quatorze quatre quatre-vingt quatrième quatrièmement que quel quelconque quelle quelles quelque quelques quelqu'un quels qui quiconque quinze quoi quoique r revoici revoilà rien s sa sacrebleu sans sapristi sauf se seize selon sept septième sera seront ses si sien sienne siennes siens sinon six sixième soi soi-même soit soixante son sont sous stop suis suivant sur surtout t ta tac tant te té tel telle tellement telles tels tenant tes tic tien tienne tiennes tiens toc toi toi-même ton touchant toujours tous tout toute toutes treize trente très trois troisième troisièmement trop tsoin tsouin tu u un une unes uns v va vais vas vé vers via vif vifs vingt vivat vive vives vlan voici voilà vont vos votre vôtre vôtres vous vous-mêmes vu w x y z zut\"\n",
    "add_stop_words = add_stop_words.split()\n",
    "Stopwords.update(add_stop_words)\n",
    "Stopwords.update(Stopwords_fr)\n",
    "Stopwords.update(Stopwords_eng)\n"
   ]
  },
  {
   "cell_type": "code",
   "execution_count": 5,
   "metadata": {},
   "outputs": [
    {
     "data": {
      "text/plain": [
       "(731, 2)"
      ]
     },
     "execution_count": 5,
     "metadata": {},
     "output_type": "execute_result"
    }
   ],
   "source": [
    "data.shape"
   ]
  },
  {
   "cell_type": "code",
   "execution_count": 6,
   "metadata": {},
   "outputs": [],
   "source": [
    "import string\n",
    "from nltk.stem import PorterStemmer\n",
    "\n",
    "from nltk.tokenize import sent_tokenize, word_tokenize\n",
    "def stemSentence(sentence):\n",
    "    token_words=word_tokenize(str(sentence))\n",
    "    token_words\n",
    "    porter = PorterStemmer()\n",
    "    stem_sentence=[]\n",
    "    for word in token_words:\n",
    "        stem_sentence.append(porter.stem(word))\n",
    "        stem_sentence.append(\" \")\n",
    "    return \"\".join(stem_sentence)\n"
   ]
  },
  {
   "cell_type": "code",
   "execution_count": 7,
   "metadata": {},
   "outputs": [
    {
     "data": {
      "text/html": [
       "<div>\n",
       "<style scoped>\n",
       "    .dataframe tbody tr th:only-of-type {\n",
       "        vertical-align: middle;\n",
       "    }\n",
       "\n",
       "    .dataframe tbody tr th {\n",
       "        vertical-align: top;\n",
       "    }\n",
       "\n",
       "    .dataframe thead th {\n",
       "        text-align: right;\n",
       "    }\n",
       "</style>\n",
       "<table border=\"1\" class=\"dataframe\">\n",
       "  <thead>\n",
       "    <tr style=\"text-align: right;\">\n",
       "      <th></th>\n",
       "      <th>description</th>\n",
       "      <th>label</th>\n",
       "      <th>new_description</th>\n",
       "    </tr>\n",
       "  </thead>\n",
       "  <tbody>\n",
       "    <tr>\n",
       "      <th>0</th>\n",
       "      <td>♦️ I wish you to stay healthy. Your character,...</td>\n",
       "      <td>0</td>\n",
       "      <td>♦️ I wish you to stay healthi . your charact ,...</td>\n",
       "    </tr>\n",
       "    <tr>\n",
       "      <th>1</th>\n",
       "      <td>Les bases de l'algorithmique b Darija vos rema...</td>\n",
       "      <td>0</td>\n",
       "      <td>le base de l'algorithmiqu b darija vo remarqu</td>\n",
       "    </tr>\n",
       "    <tr>\n",
       "      <th>2</th>\n",
       "      <td>Corona restrictions causing terrible financial...</td>\n",
       "      <td>0</td>\n",
       "      <td>corona restrict caus terribl financi stress to...</td>\n",
       "    </tr>\n",
       "    <tr>\n",
       "      <th>3</th>\n",
       "      <td>📣📣AMAZON recrute des conseillers clients à Dom...</td>\n",
       "      <td>1</td>\n",
       "      <td>📣📣amazon recrut de conseil client à domicil .🧑...</td>\n",
       "    </tr>\n",
       "    <tr>\n",
       "      <th>4</th>\n",
       "      <td>Great illustration....</td>\n",
       "      <td>0</td>\n",
       "      <td>great illustr ... .</td>\n",
       "    </tr>\n",
       "  </tbody>\n",
       "</table>\n",
       "</div>"
      ],
      "text/plain": [
       "                                         description  label  \\\n",
       "0  ♦️ I wish you to stay healthy. Your character,...      0   \n",
       "1  Les bases de l'algorithmique b Darija vos rema...      0   \n",
       "2  Corona restrictions causing terrible financial...      0   \n",
       "3  📣📣AMAZON recrute des conseillers clients à Dom...      1   \n",
       "4                             Great illustration....      0   \n",
       "\n",
       "                                     new_description  \n",
       "0  ♦️ I wish you to stay healthi . your charact ,...  \n",
       "1     le base de l'algorithmiqu b darija vo remarqu   \n",
       "2  corona restrict caus terribl financi stress to...  \n",
       "3  📣📣amazon recrut de conseil client à domicil .🧑...  \n",
       "4                               great illustr ... .   "
      ]
     },
     "execution_count": 7,
     "metadata": {},
     "output_type": "execute_result"
    }
   ],
   "source": [
    "data['new_description']= data['description'].apply(stemSentence)\n",
    "data.head()"
   ]
  },
  {
   "cell_type": "code",
   "execution_count": 8,
   "metadata": {},
   "outputs": [],
   "source": [
    "punctuations = string.punctuation #+\"’¶•@°©®™\""
   ]
  },
  {
   "cell_type": "code",
   "execution_count": 9,
   "metadata": {},
   "outputs": [],
   "source": [
    "def funct(text):\n",
    "    text = str(text).lower()\n",
    "    \n",
    "    translator = str.maketrans(punctuations,\" \"*len(punctuations))\n",
    "    s = text.translate(translator)\n",
    "    \n",
    "    res = ''.join([i for i in s if not i.isdigit()])\n",
    "    \n",
    "    wordtokens = word_tokenize(res)\n",
    "    \n",
    "    return  ' '.join([w for w in wordtokens if not w in Stopwords])"
   ]
  },
  {
   "cell_type": "code",
   "execution_count": 11,
   "metadata": {},
   "outputs": [],
   "source": [
    "data['new_description2']=data['new_description'].apply(funct)"
   ]
  },
  {
   "cell_type": "code",
   "execution_count": 12,
   "metadata": {},
   "outputs": [],
   "source": [
    "freq = pd.Series(' '.join(data['new_description2']).split()).value_counts()[:3]\n",
    "freq\n",
    "data['new_description2'] = data['new_description2'].apply(lambda x: \" \".join(x for x in x.split() if x not in freq))"
   ]
  },
  {
   "cell_type": "code",
   "execution_count": 13,
   "metadata": {
    "collapsed": true
   },
   "outputs": [
    {
     "data": {
      "text/html": [
       "<div>\n",
       "<style scoped>\n",
       "    .dataframe tbody tr th:only-of-type {\n",
       "        vertical-align: middle;\n",
       "    }\n",
       "\n",
       "    .dataframe tbody tr th {\n",
       "        vertical-align: top;\n",
       "    }\n",
       "\n",
       "    .dataframe thead th {\n",
       "        text-align: right;\n",
       "    }\n",
       "</style>\n",
       "<table border=\"1\" class=\"dataframe\">\n",
       "  <thead>\n",
       "    <tr style=\"text-align: right;\">\n",
       "      <th></th>\n",
       "      <th>description</th>\n",
       "      <th>label</th>\n",
       "      <th>new_description</th>\n",
       "      <th>new_description2</th>\n",
       "    </tr>\n",
       "  </thead>\n",
       "  <tbody>\n",
       "    <tr>\n",
       "      <th>0</th>\n",
       "      <td>♦️ I wish you to stay healthy. Your character,...</td>\n",
       "      <td>0</td>\n",
       "      <td>♦️ I wish you to stay healthi . your charact ,...</td>\n",
       "      <td>♦️ wish stay healthi charact strength kind rest</td>\n",
       "    </tr>\n",
       "    <tr>\n",
       "      <th>1</th>\n",
       "      <td>Les bases de l'algorithmique b Darija vos rema...</td>\n",
       "      <td>0</td>\n",
       "      <td>le base de l'algorithmiqu b darija vo remarqu</td>\n",
       "      <td>base algorithmiqu darija vo remarqu</td>\n",
       "    </tr>\n",
       "    <tr>\n",
       "      <th>2</th>\n",
       "      <td>Corona restrictions causing terrible financial...</td>\n",
       "      <td>0</td>\n",
       "      <td>corona restrict caus terribl financi stress to...</td>\n",
       "      <td>corona restrict caus terribl financi stress po...</td>\n",
       "    </tr>\n",
       "    <tr>\n",
       "      <th>3</th>\n",
       "      <td>📣📣AMAZON recrute des conseillers clients à Dom...</td>\n",
       "      <td>1</td>\n",
       "      <td>📣📣amazon recrut de conseil client à domicil .🧑...</td>\n",
       "      <td>📣📣amazon recrut conseil client domicil 🧑‍💻proc...</td>\n",
       "    </tr>\n",
       "    <tr>\n",
       "      <th>4</th>\n",
       "      <td>Great illustration....</td>\n",
       "      <td>0</td>\n",
       "      <td>great illustr ... .</td>\n",
       "      <td>great illustr</td>\n",
       "    </tr>\n",
       "    <tr>\n",
       "      <th>5</th>\n",
       "      <td>Great to see companies across Canada stepping ...</td>\n",
       "      <td>0</td>\n",
       "      <td>great to see compani across canada step up to ...</td>\n",
       "      <td>great compani across canada step help fight co...</td>\n",
       "    </tr>\n",
       "    <tr>\n",
       "      <th>6</th>\n",
       "      <td>Le Maroc dont je suis si fier...</td>\n",
       "      <td>0</td>\n",
       "      <td>Le maroc dont je sui si fier ...</td>\n",
       "      <td>maroc sui fier</td>\n",
       "    </tr>\n",
       "    <tr>\n",
       "      <th>7</th>\n",
       "      <td>hashtag#عاجل : لكل من يمكنه المساعدة في تأمين ...</td>\n",
       "      <td>0</td>\n",
       "      <td>hashtag # عاجل : لكل من يمكنه المساعدة في تأمي...</td>\n",
       "      <td>عاجل لكل من يمكنه المساعدة في تأمين أبسط وسائل...</td>\n",
       "    </tr>\n",
       "    <tr>\n",
       "      <th>8</th>\n",
       "      <td>I just published the fourth and last blog post...</td>\n",
       "      <td>0</td>\n",
       "      <td>I just publish the fourth and last blog post a...</td>\n",
       "      <td>publish fourth last blog post java featur thi ...</td>\n",
       "    </tr>\n",
       "    <tr>\n",
       "      <th>9</th>\n",
       "      <td>The pain you feel today is the strength you fe...</td>\n",
       "      <td>0</td>\n",
       "      <td>the pain you feel today is the strength you fe...</td>\n",
       "      <td>pain feel today strength feel tomorrowhashtag ...</td>\n",
       "    </tr>\n",
       "    <tr>\n",
       "      <th>10</th>\n",
       "      <td>أول جهاز مساعدة للتنفس مغربي محلي الصنع. نحتاج...</td>\n",
       "      <td>0</td>\n",
       "      <td>أول جهاز مساعدة للتنفس مغربي محلي الصنع . نحتا...</td>\n",
       "      <td>أول جهاز مساعدة للتنفس مغربي محلي الصنع نحتاج ...</td>\n",
       "    </tr>\n",
       "    <tr>\n",
       "      <th>11</th>\n",
       "      <td>Are you at Home practicing social distancing t...</td>\n",
       "      <td>0</td>\n",
       "      <td>are you at home practic social distanc to figh...</td>\n",
       "      <td>home practic social distanc fight spread covid...</td>\n",
       "    </tr>\n",
       "    <tr>\n",
       "      <th>12</th>\n",
       "      <td>Ce virus a dévoilé une chose très importante p...</td>\n",
       "      <td>0</td>\n",
       "      <td>Ce viru a dévoilé une chose trè important pa a...</td>\n",
       "      <td>viru dévoilé chose trè important pa gen mai go...</td>\n",
       "    </tr>\n",
       "    <tr>\n",
       "      <th>13</th>\n",
       "      <td>tout le monde est au courant sur le programme ...</td>\n",
       "      <td>0</td>\n",
       "      <td>tout le mond est au courant sur le programm de...</td>\n",
       "      <td>mond courant programm coursera covid alor crée...</td>\n",
       "    </tr>\n",
       "    <tr>\n",
       "      <th>14</th>\n",
       "      <td>Kamal EL FATIHI hashtag#Kudos I really appreci...</td>\n",
       "      <td>0</td>\n",
       "      <td>kamal EL fatihi hashtag # kudo I realli apprec...</td>\n",
       "      <td>kamal el fatihi kudo realli appreci goingabove...</td>\n",
       "    </tr>\n",
       "  </tbody>\n",
       "</table>\n",
       "</div>"
      ],
      "text/plain": [
       "                                          description  label  \\\n",
       "0   ♦️ I wish you to stay healthy. Your character,...      0   \n",
       "1   Les bases de l'algorithmique b Darija vos rema...      0   \n",
       "2   Corona restrictions causing terrible financial...      0   \n",
       "3   📣📣AMAZON recrute des conseillers clients à Dom...      1   \n",
       "4                              Great illustration....      0   \n",
       "5   Great to see companies across Canada stepping ...      0   \n",
       "6                    Le Maroc dont je suis si fier...      0   \n",
       "7   hashtag#عاجل : لكل من يمكنه المساعدة في تأمين ...      0   \n",
       "8   I just published the fourth and last blog post...      0   \n",
       "9   The pain you feel today is the strength you fe...      0   \n",
       "10  أول جهاز مساعدة للتنفس مغربي محلي الصنع. نحتاج...      0   \n",
       "11  Are you at Home practicing social distancing t...      0   \n",
       "12  Ce virus a dévoilé une chose très importante p...      0   \n",
       "13  tout le monde est au courant sur le programme ...      0   \n",
       "14  Kamal EL FATIHI hashtag#Kudos I really appreci...      0   \n",
       "\n",
       "                                      new_description  \\\n",
       "0   ♦️ I wish you to stay healthi . your charact ,...   \n",
       "1      le base de l'algorithmiqu b darija vo remarqu    \n",
       "2   corona restrict caus terribl financi stress to...   \n",
       "3   📣📣amazon recrut de conseil client à domicil .🧑...   \n",
       "4                                great illustr ... .    \n",
       "5   great to see compani across canada step up to ...   \n",
       "6                   Le maroc dont je sui si fier ...    \n",
       "7   hashtag # عاجل : لكل من يمكنه المساعدة في تأمي...   \n",
       "8   I just publish the fourth and last blog post a...   \n",
       "9   the pain you feel today is the strength you fe...   \n",
       "10  أول جهاز مساعدة للتنفس مغربي محلي الصنع . نحتا...   \n",
       "11  are you at home practic social distanc to figh...   \n",
       "12  Ce viru a dévoilé une chose trè important pa a...   \n",
       "13  tout le mond est au courant sur le programm de...   \n",
       "14  kamal EL fatihi hashtag # kudo I realli apprec...   \n",
       "\n",
       "                                     new_description2  \n",
       "0     ♦️ wish stay healthi charact strength kind rest  \n",
       "1                 base algorithmiqu darija vo remarqu  \n",
       "2   corona restrict caus terribl financi stress po...  \n",
       "3   📣📣amazon recrut conseil client domicil 🧑‍💻proc...  \n",
       "4                                       great illustr  \n",
       "5   great compani across canada step help fight co...  \n",
       "6                                      maroc sui fier  \n",
       "7   عاجل لكل من يمكنه المساعدة في تأمين أبسط وسائل...  \n",
       "8   publish fourth last blog post java featur thi ...  \n",
       "9   pain feel today strength feel tomorrowhashtag ...  \n",
       "10  أول جهاز مساعدة للتنفس مغربي محلي الصنع نحتاج ...  \n",
       "11  home practic social distanc fight spread covid...  \n",
       "12  viru dévoilé chose trè important pa gen mai go...  \n",
       "13  mond courant programm coursera covid alor crée...  \n",
       "14  kamal el fatihi kudo realli appreci goingabove...  "
      ]
     },
     "execution_count": 13,
     "metadata": {},
     "output_type": "execute_result"
    }
   ],
   "source": [
    "data.head(15)"
   ]
  },
  {
   "cell_type": "code",
   "execution_count": 14,
   "metadata": {},
   "outputs": [],
   "source": [
    "data.dropna(inplace=True)"
   ]
  },
  {
   "cell_type": "code",
   "execution_count": 16,
   "metadata": {},
   "outputs": [],
   "source": [
    "x = data['new_description2']\n",
    "y = data['label']"
   ]
  },
  {
   "cell_type": "code",
   "execution_count": 17,
   "metadata": {
    "collapsed": true
   },
   "outputs": [
    {
     "name": "stdout",
     "output_type": "stream",
     "text": [
      "  (0, 5639)\t0.31479550620807545\n",
      "  (0, 3580)\t0.4126273112969961\n",
      "  (0, 6337)\t0.3943569701348248\n",
      "  (0, 1018)\t0.3943569701348248\n",
      "  (0, 2912)\t0.3943569701348248\n",
      "  (0, 6298)\t0.3063150886474059\n",
      "  (0, 7124)\t0.4126273112969961\n",
      "  (1, 5539)\t0.5279037699843189\n",
      "  (1, 7000)\t0.3090066386266902\n",
      "  (1, 1613)\t0.5279037699843189\n",
      "  (1, 241)\t0.5279037699843189\n",
      "  (1, 650)\t0.2616633833643219\n",
      "  (2, 1669)\t0.16062438938320386\n",
      "  (2, 161)\t0.15118920975531885\n",
      "  (2, 3886)\t0.10379093434224992\n",
      "  (2, 7038)\t0.16062438938320386\n",
      "  (2, 2811)\t0.16062438938320386\n",
      "  (2, 2357)\t0.12095487368649681\n",
      "  (2, 2998)\t0.11373756348519617\n",
      "  (2, 4587)\t0.16062438938320386\n",
      "  (2, 5329)\t0.1444948432734052\n",
      "  (2, 4377)\t0.08393021217015281\n",
      "  (2, 6042)\t0.16062438938320386\n",
      "  (2, 4413)\t0.1444948432734052\n",
      "  (2, 2747)\t0.12836529716360653\n",
      "  :\t:\n",
      "  (730, 3424)\t0.04240867020843893\n",
      "  (730, 3427)\t0.04240867020843893\n",
      "  (730, 3431)\t0.04240867020843893\n",
      "  (730, 1721)\t0.08902020306892465\n",
      "  (730, 6364)\t0.058356818932424025\n",
      "  (730, 4993)\t0.056169088009404795\n",
      "  (730, 4085)\t0.061930083492763334\n",
      "  (730, 4033)\t0.06955931290853644\n",
      "  (730, 900)\t0.05151524115790386\n",
      "  (730, 3284)\t0.06097926622804786\n",
      "  (730, 3485)\t0.05646825185733726\n",
      "  (730, 1569)\t0.08972157299992302\n",
      "  (730, 2954)\t0.0722180244679133\n",
      "  (730, 6160)\t0.11799375389243666\n",
      "  (730, 3202)\t0.07879508112995981\n",
      "  (730, 5630)\t0.07675640911292379\n",
      "  (730, 314)\t0.10932090938116144\n",
      "  (730, 4515)\t0.19587678639501513\n",
      "  (730, 3913)\t0.18579025047828998\n",
      "  (730, 3222)\t0.1076088065539834\n",
      "  (730, 2739)\t0.06928331080238724\n",
      "  (730, 3757)\t0.06173650871962668\n",
      "  (730, 1248)\t0.0701222366186846\n",
      "  (730, 1583)\t0.051755579264469984\n",
      "  (730, 650)\t0.0731831445525845\n"
     ]
    }
   ],
   "source": [
    "vectorizer = TfidfVectorizer()\n",
    "x= vectorizer.fit_transform(x)\n"
   ]
  },
  {
   "cell_type": "markdown",
   "metadata": {},
   "source": [
    "# save Tfidf"
   ]
  },
  {
   "cell_type": "code",
   "execution_count": 23,
   "metadata": {},
   "outputs": [],
   "source": [
    "import pickle\n",
    "#save tfidf \n",
    "pickle.dump(vectorizer,open(\"tfidf.pkl\",\"wb\"))"
   ]
  },
  {
   "cell_type": "code",
   "execution_count": 24,
   "metadata": {
    "collapsed": true
   },
   "outputs": [
    {
     "name": "stdout",
     "output_type": "stream",
     "text": [
      "<class 'scipy.sparse.csr.csr_matrix'>\n"
     ]
    }
   ],
   "source": [
    "x.shape\n",
    "print(type(x))"
   ]
  },
  {
   "cell_type": "code",
   "execution_count": 82,
   "metadata": {
    "collapsed": true
   },
   "outputs": [
    {
     "name": "stdout",
     "output_type": "stream",
     "text": [
      "['aa', 'aaa', 'aaafm', 'aadil', 'aaj', 'aajoyland', 'aala', 'aaron', 'aarshad', 'aasim', 'aazmeen', 'abacu', 'abacus', 'abandonnerai', 'abandonnez', 'abap', 'abba', 'abbottabad', 'abdelillah', 'abdelkhalek', 'abdelmoumen', 'abdul', 'abdullah', 'abdulmoizyounu', 'abfishery', 'abil', 'ability', 'abl', 'abnorm', 'abod', 'abonn', 'abonné', 'aboutir', 'aboutit', 'abov', 'abovegend', 'aboveinterest', 'abovemin', 'abovey', 'abri', 'absenc', 'absolu', 'absolue', 'abt', 'abu', 'abubakar', 'ac', 'aca', 'academ', 'academi', 'academy', 'académiques', 'acc', 'acca', 'accaexperi', 'accdd', 'accept', 'acceptable', 'acceptance', 'acceptez', 'accepté', 'access', 'accessori', 'accid', 'acclaim', 'accompagn', 'accompli', 'accomplish', 'accompliss', 'accor', 'accord', 'accordingli', 'accordingly', 'account', 'accountant', 'accountantacma', 'accountantcompani', 'accountanteduc', 'accountantinterest', 'accountantjob', 'accountantloc', 'accounting', 'accounts', 'accroîtr', 'accrual', 'acct', 'accueil', 'accueilli', 'accueillir', 'accur', 'accuraci', 'accurate', 'accè', 'accé', 'accélérer', 'ace', 'acedigitals', 'acepk', 'acetheinterview', 'achakzai', 'acharné', 'achat', 'achats', 'achemin', 'achet', 'acheteur', 'achetez', 'acheton', 'acheté', 'achevé', 'achiev', 'achèt', 'acimc', 'acma', 'acquia', 'acquir', 'acquisit', 'across', 'act', 'acteur', 'actif', 'action', 'actions', 'activ', 'activities', 'activité', 'actu', 'actual', 'actualemail', 'actualisé', 'actualité', 'actuel', 'actuellementl', 'ad', 'adaboost', 'adamjeelife', 'adapt', 'adaptability', 'adapté', 'add', 'addit', 'addition', 'address', 'addressesmail', 'addressgold', 'adeccomaroc', 'adequ', 'adil', 'aditiva', 'adjec', 'adjust', 'admin', 'administ', 'administr', 'administracion', 'administrateur', 'administratif', 'administratifs', 'administration', 'administrationpost', 'administrationqualif', 'administrator', 'administratorcandid', 'administratorfor', 'administratorloc', 'administratorpost', 'administratorstartex', 'admir', 'admirez', 'adnan', 'adob', 'adoooor', 'adopt', 'adopton', 'adorer', 'adress', 'adria', 'advanc', 'advantag', 'advantagehashtag', 'adversair', 'advert', 'advertis', 'advertising', 'advic', 'advice', 'advisori', 'adword', 'adéquat', 'ae', 'aemail', 'aer', 'aesolar', 'aexperi', 'affair', 'affaires', 'affairessavoir', 'affect', 'affecte', 'affich', 'affidavit', 'affili', 'affinité', 'afford', 'afghan', 'afghancarpet', 'afraid', 'africa', 'africaenvironn', 'africahashtag', 'africain', 'africawork', 'afriqu', 'aftab', 'afteral', 'afz', 'ag', 'agadird', 'agc', 'age', 'agenc', 'agencemap', 'agency', 'agencyqualif', 'agent', 'agents', 'aggress', 'agha', 'agharibaba', 'aghasteel', 'agil', 'agile', 'agility', 'agir', 'agissez', 'agit', 'ago', 'agp', 'agre', 'agreed', 'agreement', 'agressivité', 'agricoletechnicien', 'agriproduct', 'agroalimentair', 'agréabl', 'agréable', 'aguinaga', 'ahead', 'ahm', 'ahmed', 'ahmedtutorsacademyhashtag', 'ahsan', 'ahsanalihr', 'ahsnulhaq', 'ahus', 'aid', 'aidant', 'aide', 'aider', 'aideron', 'aidez', 'aidon', 'aigainst', 'aihashtag', 'aijazsheikh', 'ailleur', 'aim', 'aimabl', 'aimer', 'aimerai', 'aimeront', 'aimez', 'aimon', 'aimons', 'aimviz', 'aimé', 'air', 'aircod', 'airfranc', 'ais', 'aisa', 'aisanc', 'aisha', 'aix', 'ajayen', 'ajj', 'ajout', 'ajouté', 'ajoutée', 'ajycللاستفسار', 'akbar', 'akmalkakar', 'akram', 'akza', 'al', 'ala', 'alaikumurg', 'alain', 'alarm', 'alberta', 'alcooliqu', 'aleemabad', 'alert', 'alerton', 'alexi', 'alfa', 'alfalah', 'alfalahmtoprogram', 'alfalead', 'alger', 'algeri', 'algeria', 'algo', 'algorithm', 'algorithmiqu', 'algorithmsensembl', 'alguien', 'algéri', 'algérien', 'alhakimdubai', 'ali', 'alibaba', 'align', 'alikumail', 'alimentair', 'aliouakhouloud', 'alkaram', 'alkhidmat', 'all', 'allah', 'allai', 'allait', 'allamhashtag', 'allemagn', 'allemand', 'aller', 'allez', 'allhumdullilah', 'alli', 'allianc', 'allié', 'allon', 'allot', 'allow', 'allowance', 'allowanceag', 'allowancejob', 'alluma', 'alluminum', 'alléger', 'alm', 'almeezangroup', 'almusleh', 'alon', 'along', 'alongwith', 'alor', 'alot', 'alpha', 'alrahimtextile', 'alreadi', 'altamash', 'alten', 'altern', 'altran', 'aluhrpk', 'alway', 'always', 'amal', 'amaz', 'amazon', 'amazons', 'ambassadeur', 'ambassador', 'amber', 'ambianc', 'ambit', 'ambiti', 'ambitionbox', 'ambitions', 'amcal', 'amedit', 'ameenhashtag', 'amenez', 'amené', 'america', 'amexperi', 'amfco', 'amfp', 'amg', 'ami', 'amin', 'amine', 'amman', 'amoa', 'among', 'amount', 'amour', 'amoureus', 'ampl', 'ampleur', 'amqualif', 'amèr', 'amélior', 'amélioration', 'améliorerait', 'amériqu', 'ana', 'analys', 'analysi', 'analysis', 'analysisassist', 'analyst', 'analystjob', 'analyt', 'analyz', 'anam', 'anatomia', 'ancer', 'anchole', 'ancien', 'ancienn', 'and', 'andcar', 'andgulshan', 'andr', 'android', 'androidmarket', 'anecdot', 'anger', 'anglai', 'anglais', 'anglophon', 'angular', 'ani', 'anilmirza', 'anim', 'animation', 'animatorrequir', 'animatric', 'animaux', 'anisa', 'anjum', 'ann', 'anna', 'annc', 'annonc', 'annonces', 'annonceur', 'annoncytop', 'annoncé', 'announc', 'announcementposit', 'annu', 'annual', 'annuel', 'anné', 'anoth', 'ansari', 'anshashtag', 'answ', 'answer', 'anti', 'anticipé', 'antidot', 'antipoussier', 'antiseptiqu', 'antiviru', 'anum', 'anumnoor', 'anw', 'anwer', 'anxieti', 'anxiété', 'anybodi', 'anyon', 'anyth', 'anzalna', 'análisi', 'ao', 'aomatatech', 'août', 'ap', 'apach', 'api', 'apisi', 'apni', 'apoyar', 'app', 'apparante', 'apparaîtr', 'apparel', 'appart', 'appel', 'appellera', 'appels', 'appl', 'applaudi', 'appli', 'applic', 'applicatif', 'application', 'applications', 'appliqu', 'appliqué', 'apply', 'applyavail', 'applycontact', 'applyeduc', 'applyforjobs', 'applyinterest', 'applypleas', 'appoint', 'appointments', 'apport', 'apportera', 'appplic', 'apprais', 'appreci', 'apprendr', 'apprendra', 'apprenez', 'apprentissag', 'appri', 'approach', 'approachgend', 'approch', 'appropri', 'approv', 'approval', 'apprécient', 'apprécier', 'apprécié', 'appt', 'appui', 'appuy', 'appuya', 'april', 'aprè', 'aqsa', 'ar', 'arab', 'arabe', 'architect', 'architectur', 'architecturauxvisit', 'archiv', 'ardu', 'arduino', 'area', 'areacontact', 'areaemail', 'areas', 'argent', 'argentla', 'argu', 'argument', 'argus', 'arhosiery', 'arif', 'arm', 'armé', 'aroosa', 'around', 'arrang', 'arriv', 'arriver', 'arrivera', 'arriverai', 'arrivé', 'arrêt', 'arrêter', 'arrêtez', 'arrêton', 'art', 'artagnan', 'artco', 'arthur', 'arthurlawrence', 'articl', 'article', 'articleship', 'artifici', 'artificialintellig', 'artificialintelligencehashtag', 'artis', 'artisan', 'artist', 'artisticapparels', 'artisticgarment', 'artistinterest', 'asaalam', 'asad', 'asanasalari', 'asap', 'asapappli', 'asifa', 'asimroy', 'ask', 'aslam', 'asma', 'aso', 'asp', 'aspect', 'aspiretoinspir', 'ass', 'assembl', 'assemblag', 'assess', 'assesscheck', 'asset', 'assets', 'assia', 'assiat', 'assiduité', 'assign', 'assist', 'assistance', 'assistant', 'assistantexperi', 'assistantloc', 'assistantpost', 'assistantqualif', 'assistez', 'assisté', 'asslamualikumurg', 'associ', 'associate', 'associatecompani', 'associatesjob', 'assort', 'asst', 'asstt', 'assumpt', 'assur', 'assuré', 'astromiqu', 'astuc', 'atabdul', 'atazeem', 'atco', 'ateli', 'atend', 'athlet', 'athrinternships', 'atiq', 'atleast', 'atmadihawaqar', 'atnaqeebullah', 'atomer', 'atout', 'atraf', 'atresume', 'attardonsnoussurlefondplutôtquesurlaform', 'atteindr', 'atteint', 'attempt', 'attend', 'attendr', 'attent', 'attest', 'attitud', 'attitude', 'attitudeknowledg', 'attockcement', 'attract', 'attractive', 'attribut', 'audienc', 'audience', 'audio', 'audiovisuel', 'audit', 'auditeur', 'auditor', 'audits', 'augment', 'august', 'aujgroup', 'auprè', 'aur', 'auron', 'australian', 'autant', 'authent', 'author', 'autmationanywher', 'auto', 'autocad', 'autochimiemarket', 'autoingénieur', 'autom', 'automationanywher', 'automatiqu', 'automatism', 'automobil', 'automobile', 'automobilesdan', 'automot', 'autonom', 'autonomi', 'autopart', 'autoproduct', 'autoris', 'autorité', 'autorout', 'autour', 'autr', 'autres', 'autrui', 'auvitron', 'auvitronics', 'auxrecruteur', 'av', 'avai', 'avail', 'availability', 'available', 'avanc', 'avancé', 'avantag', 'avanza', 'avenir', 'aventur', 'avenu', 'avenues', 'averag', 'avi', 'avion', 'avoid', 'avon', 'avril', 'aw', 'await', 'awar', 'awards', 'awarenessb', 'awesom', 'aws', 'axecaccountants', 'ayat', 'ayesha', 'azam', 'azeem', 'aziz', 'azur', 'azure', 'aérienmanag', 'aéronautiqu', 'aéronautique', 'ba', 'babi', 'babyboom', 'bac', 'bachaa', 'bachaaparty', 'bachelor', 'bachelors', 'bachelorsexperi', 'bachelorsinterest', 'bachelorssalari', 'bachon', 'back', 'backend', 'background', 'backgroundorgan', 'backup', 'bactéricide', 'bad', 'badirabd', 'baexp', 'bag', 'baggag', 'bahadurabad', 'bahadurabadurdu', 'bahadurabadw', 'bahama', 'bahawalpur', 'bahria', 'bailout', 'baiss', 'baissent', 'baitul', 'baixa', 'bajay', 'baji', 'bak', 'bake', 'baking', 'balanc', 'balance', 'balcon', 'balconi', 'balenciaga', 'bali', 'balouch', 'ban', 'banara', 'bancair', 'bancaires', 'bank', 'bankalfalah', 'bankalfalahmanagementtraine', 'bankingjob', 'banlieu', 'bann', 'bannen', 'banner', 'banqu', 'banquehashtag', 'baptis', 'bar', 'baraka', 'barber', 'bardo', 'bardoukh', 'bari', 'barki', 'barrag', 'barrièr', 'bas', 'base', 'based', 'basedsend', 'basedw', 'basi', 'basic', 'basis', 'bastien', 'basé', 'batch', 'batchesmaintain', 'batiment', 'batool', 'battr', 'baum', 'bavettes', 'bawani', 'bazareduc', 'bb', 'bba', 'bbq', 'bc', 'bcompattern', 'bcs', 'bd', 'bdm', 'bdo', 'beaconhous', 'beau', 'beaumont', 'beauti', 'beaux', 'bebusybeingawesomehashtag', 'becaus', 'becom', 'befor', 'behalf', 'behappi', 'behavior', 'behaviour', 'behumbl', 'bekindhashtag', 'belalreaz', 'believ', 'believeinyourself', 'bell', 'belt', 'belvédèr', 'belyazidi', 'benchmark', 'beneficiari', 'beneficiaries', 'benefit', 'benefits', 'benefitsexperi', 'benefitsgend', 'benefitsjob', 'benefitsloc', 'benefitstim', 'bengali', 'bengio', 'benguerir', 'benifit', 'benin', 'benni', 'bensefia', 'bensouda', 'beposit', 'bernardin', 'berrechid', 'besoin', 'besoins', 'best', 'bethank', 'better', 'beverag', 'beyond', 'beyoungatheart', 'bh', 'bhai', 'bhi', 'bhschool', 'bi', 'bias', 'bicharg', 'bienfait', 'bientôt', 'bienveil', 'big', 'bigdata', 'bigdataanalyt', 'bigdatahashtag', 'bigéni', 'bihashtag', 'bike', 'biketim', 'bilal', 'bilan', 'bilaw', 'bill', 'bio', 'biolog', 'biryani', 'bit', 'bitbucket', 'bitdyn', 'bitdyne', 'bite', 'biturbo', 'biz', 'bizexcellent', 'bizhashtag', 'bkjddbalanc', 'blade', 'blindli', 'block', 'blockchain', 'blog', 'bloqué', 'blous', 'blue', 'blutec', 'bm', 'bmci', 'bms', 'bnp', 'board', 'boardingintéressé', 'boat', 'bod', 'boi', 'boit', 'bolton', 'bon', 'bonheur', 'bonjour', 'bonjourj', 'bonn', 'bonsoir', 'bonu', 'bonus', 'bonusbenefit', 'bonusesinterest', 'bonusloc', 'bonusnot', 'book', 'booker', 'bookkeep', 'bookkeepingrayha', 'books', 'boost', 'boot', 'bootstrap', 'bord', 'boredom', 'borné', 'boss', 'bosser', 'bot', 'botdevelop', 'bothprospect', 'bottl', 'bougaticela', 'bougatimai', 'bouger', 'boujafar', 'boulet', 'bouleversé', 'boulot', 'boumargoud', 'boun', 'bouquin', 'bourg', 'bourt', 'bouskoura', 'bout', 'boutiqu', 'bouton', 'bouznika', 'boxit', 'boy', 'boycott', 'boît', 'boîte', 'bpo', 'bra', 'brain', 'brainstorm', 'branch', 'brand', 'brandian', 'brands', 'brazil', 'bread', 'break', 'breath', 'breez', 'bref', 'brel', 'brevets', 'breweri', 'bridg', 'brief', 'briefw', 'briller', 'bring', 'british', 'broaden', 'brochur', 'brouat', 'browser', 'brunswick', 'bs', 'bsc', 'bsce', 'bscs', 'bt', 'btl', 'btp', 'bu', 'buanderiesi', 'budget', 'budgeting', 'budgetsprepar', 'budgétair', 'buffer', 'bug', 'build', 'builder', 'builderscommun', 'built', 'bukc', 'bulk', 'burden', 'bureau', 'bureauprofil', 'bureautiqu', 'bureaux', 'burhanbawa', 'burl', 'burundi', 'buscan', 'busi', 'business', 'businessanalysthashtag', 'businesscontinuityplan', 'businessobject', 'buy', 'buyer', 'buzz', 'bykea', 'bâton', 'bénéficiaires', 'bénéficiez', 'bénéficié', 'bénéfiqu', 'bénévolat', 'bénévole', 'bêtement', 'bêtise', 'ca', 'cabinet', 'cabl', 'cablag', 'cables', 'cac', 'cad', 'cadeau', 'cadr', 'café', 'cahashtag', 'cahier', 'caiss', 'caisse', 'caissevo', 'caissier', 'caissièr', 'cal', 'calcul', 'calendars', 'calgari', 'calgaryjob', 'calibr', 'calin', 'call', 'calls', 'callsbas', 'cambridg', 'came', 'cameraman', 'cameroun', 'camilo', 'camincsolut', 'campaign', 'campaignbenefit', 'campaigns', 'campu', 'campus', 'campusguru', 'campusw', 'canada', 'canadahashtag', 'canadajob', 'canadian', 'canapé', 'candi', 'candid', 'candidat', 'candidate', 'candidates', 'candidatur', 'candoedo', 'cant', 'cantact', 'canteen', 'canva', 'cao', 'capabilities', 'capabl', 'capac', 'capacité', 'capgemini', 'capit', 'capitagroupbd', 'capitalism', 'captain', 'captur', 'caractèr', 'card', 'cardon', 'cards', 'care', 'careem', 'career', 'careercloud', 'careercoach', 'careercounsel', 'careercup', 'careerealism', 'careers', 'careerscontact', 'careersfmcg', 'careersps', 'cargo', 'cargopakistanloc', 'caribbean', 'carlton', 'carniv', 'carpet', 'carrera', 'carri', 'carrièr', 'carrière', 'cart', 'cartalogix', 'cartoon', 'cas', 'casablanca', 'casablancabonjour', 'casablancad', 'casablancai', 'casablancastag', 'casablancasur', 'casablancav', 'case', 'cases', 'casesknowledg', 'cash', 'cashier', 'cashiers', 'cassezlachainehashtag', 'casual', 'catalogu', 'catastroph', 'catboost', 'catch', 'catco', 'categori', 'categoriesstrong', 'categorization', 'categorycollabor', 'cater', 'catia', 'catégori', 'caught', 'caus', 'caïd', 'cbc', 'cbl', 'cc', 'cca', 'ccna', 'cctv', 'cdc', 'cdd', 'cdi', 'cdihashtag', 'cdisalair', 'cdivo', 'cdivou', 'celebr', 'cell', 'cellul', 'centain', 'centenu', 'center', 'centerposit', 'centr', 'central', 'centre', 'centrejob', 'ceo', 'cerclerh', 'cert', 'certif', 'certifi', 'certifiant', 'certificate', 'certification', 'certificationsfresh', 'cerveaux', 'cesium', 'cett', 'cfr', 'chaabi', 'chaimaa', 'chain', 'chainchimieacheteurhashtag', 'chainexperi', 'chaininterest', 'chalet', 'chali', 'challeng', 'challenges', 'champ', 'chanc', 'chance', 'chances', 'chandigarh', 'chandoo', 'chang', 'changeant', 'changemanagementspecialistcriteria', 'changer', 'changera', 'changes', 'changez', 'changé', 'channel', 'channels', 'channelsprovid', 'chanter', 'chanteur', 'chantier', 'chaqu', 'charact', 'charg', 'chargement', 'chargé', 'chariti', 'charm', 'chart', 'charter', 'chase', 'chass', 'chat', 'chatbot', 'chateau', 'chaîn', 'cheap', 'check', 'checker', 'checkerqualif', 'checkshandl', 'chef', 'chefinterest', 'chelfaouiel', 'chemic', 'chemical', 'chemin', 'chemist', 'chemistri', 'chemistry', 'chequ', 'cherch', 'cherchent', 'chercher', 'chercheur', 'cherchez', 'cherchon', 'chersrecruteursj', 'chidmi', 'chief', 'chiffr', 'chiffragemanag', 'children', 'childrenhospitalkarachi', 'chiller', 'chimi', 'chine', 'chines', 'chirurgicaux', 'chloroquin', 'choc', 'chocol', 'choic', 'choisi', 'choisir', 'choisit', 'choix', 'chomag', 'choos', 'chorangi', 'chose', 'chosen', 'choses', 'chouaib', 'chowrangi', 'chr', 'chrissagramolahashtag', 'chrome', 'chu', 'chudigar', 'chundrigar', 'chuter', 'chéquier', 'chômage', 'cia', 'cibex', 'ciblez', 'cih', 'cima', 'cin', 'cinema', 'cineplex', 'cipd', 'circet', 'circl', 'circonst', 'circul', 'circular', 'citadin', 'citi', 'cities', 'citiesjob', 'citizenshippleas', 'citoyen', 'citoyenn', 'citoyenneté', 'cityw', 'civic', 'civil', 'civism', 'claim', 'clair', 'clarifi', 'class', 'classement', 'classes', 'classic', 'classif', 'classiques', 'classon', 'classé', 'claus', 'clavier', 'clean', 'cleanli', 'clear', 'clearli', 'clef', 'clendaniel', 'cleric', 'clerk', 'clerkpost', 'click', 'client', 'clientdévelopp', 'clientel', 'clients', 'clientscompet', 'clientstrè', 'clientèl', 'clientèle', 'clifton', 'cliftonqualif', 'climat', 'climax', 'clinic', 'clinics', 'clinton', 'cliquer', 'cliqueront', 'cliquez', 'cliveshoes', 'cln', 'close', 'cloth', 'cloud', 'club', 'clustr', 'clustur', 'clyde', 'clé', 'clôture', 'clôturé', 'cm', 'cma', 'cmd', 'cmi', 'cng', 'cnic', 'cnicupd', 'co', 'coach', 'coal', 'cobit', 'cod', 'code', 'codecademy', 'codeignit', 'coder', 'coderwall', 'codesandbox', 'codiantech', 'coeur', 'cofondateur', 'cohashtag', 'cohes', 'cohérenc', 'cohésion', 'coin', 'coktail', 'cold', 'colg', 'colgat', 'collabor', 'collaborateur', 'collaborateurs', 'collaps', 'colleagu', 'colleagues', 'collect', 'collectif', 'collegecontact', 'coller', 'collid', 'collide', 'collèg', 'collègu', 'coloni', 'color', 'colpal', 'columbia', 'com', 'coma', 'comaccount', 'comaddress', 'comag', 'comappl', 'comaziz', 'combat', 'combattr', 'combest', 'combin', 'combinedfabrics', 'combon', 'comcc', 'comcontact', 'comdeadlin', 'come', 'comexperi', 'comfor', 'comfort', 'comfortable', 'comgend', 'comhashtag', 'comhttp', 'cominterest', 'comiss', 'comission', 'comité', 'comkarachi', 'comkindli', 'comlast', 'comloc', 'comlook', 'comm', 'command', 'commehtab', 'commenc', 'commencera', 'commencerai', 'commencez', 'commencé', 'commend', 'commentair', 'commentez', 'commerc', 'commerce', 'commerci', 'commercial', 'commercialbuild', 'commercialesur', 'commercialis', 'commercialrhcharg', 'commercialrépons', 'commerciaux', 'commi', 'commiss', 'commission', 'commit', 'committe', 'common', 'commun', 'communauté', 'communication', 'communications', 'communiqu', 'communiquez', 'communiqué', 'community', 'comnot', 'comor', 'comp', 'compagn', 'compagni', 'compani', 'companies', 'company', 'companyexp', 'compar', 'comparez', 'comparison', 'compartir', 'compat', 'compatiblelast', 'compens', 'compet', 'competit', 'competitivecontact', 'competitiveexperi', 'competitiveinterest', 'competitivelast', 'competitiveloc', 'competitivepref', 'competitivetim', 'competitor', 'compil', 'compiègn', 'complain', 'complaint', 'compleas', 'complet', 'complex', 'compli', 'complianc', 'compliancedocumentationsop', 'compliancemainten', 'complianceptw', 'complèt', 'complètement', 'complémentair', 'complétud', 'compnay', 'compni', 'comport', 'compost', 'comprehens', 'comprendr', 'comprendront', 'compress', 'compressors', 'compri', 'compréhens', 'compt', 'comptabilis', 'comptabilité', 'comptabl', 'comptables', 'comptent', 'comptessuivi', 'comptez', 'compulsori', 'comput', 'computing', 'compét', 'compétenc', 'compétent', 'comrefer', 'comsalari', 'comsubject', 'comth', 'comtél', 'comwhatsapp', 'comwith', 'comwrit', 'comيمكنكم', 'concept', 'concepteur', 'conception', 'conceptu', 'concern', 'concerns', 'concerné', 'concert', 'concis', 'concitoyen', 'conclud', 'conclusion', 'concurrentiel', 'condit', 'conduct', 'conducteur', 'conduir', 'confer', 'confianc', 'confiance', 'confid', 'confident', 'confidential', 'confidentielattent', 'confidentiellelieu', 'confidentielsalair', 'configur', 'configuratio', 'configuration', 'confin', 'confinement', 'confinementjour', 'confinemist', 'confir', 'confirm', 'confirmé', 'confirmées', 'conflict', 'conform', 'confort', 'confrèr', 'conférenc', 'conférences', 'congreg', 'congrè', 'congé', 'conjoint', 'connai', 'connaiss', 'connaissez', 'connaîtr', 'connect', 'connectcmc', 'connections', 'connectlogistics', 'connecté', 'connu', 'conocei', 'conocéi', 'consacron', 'conscient', 'conseil', 'conseilhashtag', 'consid', 'consider', 'considèr', 'considér', 'considérabl', 'considérationhashtag', 'consign', 'consigne', 'consist', 'consol', 'consoliads', 'consolid', 'consom', 'consommateur', 'constat', 'constitué', 'constraints', 'construct', 'construction', 'construit', 'consult', 'consultancy', 'consultant', 'consultante', 'consultantkorangi', 'consum', 'consumersplan', 'consumpt', 'consécrat', 'conséquenc', 'contact', 'contactcentreexecutive', 'contactcentreexecutiveemail', 'contacte', 'contacted', 'contactedinterest', 'contactemail', 'contactez', 'contactst', 'contacté', 'contagieus', 'contain', 'contamin', 'contechcorp', 'conten', 'contenir', 'content', 'contentedit', 'contenu', 'contenus', 'context', 'contextures', 'contienn', 'contient', 'contigo', 'contin', 'continu', 'continuera', 'continuerai', 'continuez', 'continuity', 'continuité', 'continuon', 'contr', 'contra', 'contract', 'contractor', 'contracts', 'contractu', 'contrast', 'contrat', 'contribu', 'contribueront', 'contribut', 'control', 'controldepart', 'controlhascol', 'controlmarket', 'contrôl', 'contrôle', 'contrôler', 'contrôleur', 'contôleur', 'convent', 'convers', 'conversation', 'convey', 'conveyance', 'convict', 'convient', 'cook', 'cool', 'cooper', 'coopér', 'coordin', 'coordinateur', 'coordinator', 'coordinatorboth', 'coordinatorloc', 'coordinatorqualif', 'copi', 'copiedcar', 'copier', 'copleas', 'copyright', 'copywrit', 'cor', 'coral', 'cordial', 'cordin', 'core', 'coreldraw', 'cornaviru', 'cornerdha', 'corona', 'coronahashtag', 'coronapartag', 'coronastori', 'coronaviru', 'coronavirus', 'coronavirusawar', 'coronavirushashtag', 'coronavirusindia', 'coronavirusmaroc', 'coronavirusmarochashtag', 'coroni', 'corp', 'corpbrill', 'corpor', 'correct', 'correctly', 'correo', 'correspond', 'corrupção', 'cost', 'costing', 'costum', 'cote', 'coud', 'couleur', 'council', 'counsel', 'counsellingservic', 'counselor', 'counsels', 'count', 'counter', 'counteract', 'counters', 'countri', 'coup', 'cour', 'courag', 'courageus', 'couram', 'courant', 'courb', 'courent', 'cours', 'coursera', 'courses', 'court', 'courts', 'cousin', 'couterait', 'couvertur', 'couvr', 'couvrir', 'cover', 'covid', 'covidappel', 'coviddz', 'covidfr', 'covidhashtag', 'covidprevent', 'covidsuit', 'covidعملت', 'covidー', 'coût', 'cpa', 'cpec', 'cphr', 'cpi', 'cpl', 'cpm', 'cr', 'craft', 'crain', 'craindr', 'crap', 'crazi', 'creat', 'creates', 'creation', 'creativ', 'creativityinterest', 'credentials', 'credit', 'crfhr', 'cri', 'criant', 'cris', 'crise', 'crisi', 'crisis', 'crit', 'criteria', 'critic', 'critiqu', 'critèr', 'crm', 'croi', 'croient', 'croissanc', 'croit', 'croix', 'cronavirus', 'cropost', 'cross', 'croyanc', 'crp', 'cruis', 'cruiser', 'crunch', 'crystal', 'créateur', 'créatif', 'création', 'créativité', 'crédit', 'crée', 'créent', 'créer', 'créez', 'créé', 'cs', 'csibl', 'csr', 'css', 'ctv', 'cubexsweatherli', 'cubexsweatherly', 'cubic', 'cubix', 'cubixlabs', 'cucumb', 'cuisin', 'cuisine', 'cultur', 'culture', 'culturon', 'cum', 'cunduct', 'cur', 'curat', 'curator', 'curiosité', 'curiou', 'current', 'curriculum', 'curtail', 'curv', 'custodi', 'custom', 'customer', 'customercentr', 'customerexperi', 'customers', 'customersprepar', 'customersuccess', 'cut', 'cutter', 'cuz', 'cv', 'cvcareer', 'cvchanc', 'cvchancehashtag', 'cvfaisal', 'cvinbox', 'cvmaker', 'cx', 'cxm', 'cyber', 'cycl', 'cyclad', 'câlin', 'câlinsl', 'céder', 'célèbre', 'côté', 'cœur', 'dadl', 'dadt', 'dae', 'daewoo', 'dahbia', 'daili', 'dalda', 'daldafoods', 'damag', 'damensp', 'dan', 'danger', 'dangerosité', 'danish', 'danyalbinmaqsood', 'danytech', 'daoudi', 'daraz', 'darija', 'darmian', 'dashboard', 'data', 'dataanalyt', 'databas', 'databases', 'dataengin', 'datainsight', 'datamininghashtag', 'datasci', 'datasciencehashtag', 'datascientist', 'dataset', 'datavisualis', 'dataviz', 'date', 'datumcompany', 'dauqwug', 'dawn', 'dawoodsaif', 'day', 'dazzl', 'dazzlebysarah', 'dba', 'dbqmtnm', 'dbzxaa', 'dc', 'dce', 'dcp', 'ddydci', 'de', 'deadlin', 'deadline', 'deal', 'dealer', 'dealership', 'dear', 'debat', 'debit', 'debug', 'decemb', 'decid', 'decis', 'deck', 'declin', 'decreas', 'dedic', 'deduct', 'deep', 'deeplearn', 'def', 'defecnp', 'defenc', 'defence', 'defensa', 'defin', 'degre', 'degree', 'degreeexperi', 'degreeloc', 'degré', 'dehlawi', 'dehor', 'deja', 'delet', 'delhi', 'delhifightscorona', 'delight', 'deliv', 'deliveri', 'deliverqu', 'deliveryloc', 'deliverypurchas', 'deloitt', 'demain', 'demand', 'demandait', 'demandsliais', 'demandé', 'demo', 'demonstr', 'denim', 'dental', 'depart', 'department', 'departmentforrun', 'departmentinterest', 'departmentqualif', 'departmentsalari', 'departmentshashtag', 'departmentsqualif', 'depend', 'depistag', 'deploy', 'deployment', 'deployments', 'depositori', 'dept', 'depth', 'depui', 'deputi', 'dernier', 'dernièr', 'derrièr', 'descente', 'describ', 'descript', 'descriptif', 'description', 'descriptionv', 'design', 'designation', 'designer', 'designerqualif', 'designersalari', 'designersinterest', 'designerw', 'designhashtag', 'designknowledg', 'desir', 'desire', 'desired', 'desk', 'desktop', 'desquel', 'dess', 'dessinateur', 'dessou', 'dessu', 'destiné', 'detail', 'detailappl', 'details', 'detailwhatsapp', 'detal', 'detect', 'detector', 'detectorhashtag', 'deterior', 'determin', 'deuxièm', 'dev', 'devcorp', 'devcorpavec', 'develop', 'develope', 'developer', 'developerbi', 'developercompani', 'developereduc', 'developerloc', 'developermust', 'development', 'developmentcompani', 'developmentm', 'developpement', 'devenir', 'devic', 'devices', 'devient', 'devmécaniqu', 'devoir', 'devop', 'devops', 'devopssr', 'devqa', 'devrait', 'devwork', 'dexperi', 'dfmwqu', 'dfni', 'dgdfaj', 'dgm', 'dgrectt', 'dgvzxqhashtag', 'dh', 'dha', 'dhabi', 'dhaemail', 'dhanani', 'dhfuxvcredit', 'dhfuxvmor', 'dhfuxvصفحة', 'dhhtjالمنح', 'di', 'diable', 'diagnos', 'diagstic', 'dic', 'dick', 'didier', 'die', 'dieu', 'differ', 'difficil', 'difficult', 'difficulté', 'difficultés', 'différemment', 'différentes', 'digit', 'digital', 'digitalis', 'digitaliseront', 'digitallearn', 'digitallyin', 'digitalmarket', 'digitalnationafrica', 'digitaltransform', 'digitrends', 'dign', 'digniti', 'dignité', 'dilapid', 'dilig', 'dilmen', 'dimanch', 'dime', 'diminu', 'din', 'dinner', 'dipitt', 'diplom', 'diploma', 'diplôm', 'diplômé', 'diplôméshashtag', 'diptwsلفهم', 'dirai', 'dirait', 'direct', 'directement', 'directli', 'director', 'directori', 'directress', 'dirigez', 'disabl', 'disaient', 'disant', 'disappear', 'disbursements', 'disciplin', 'discipline', 'disciplines', 'disciplinesexperi', 'discipliné', 'disclos', 'discov', 'discoveri', 'discrimin', 'discrimination', 'discuss', 'discut', 'discuton', 'disheshelp', 'disney', 'disparaiss', 'display', 'dispon', 'disponibilidad', 'disponibilité', 'disponiblité', 'dispos', 'disposición', 'disposit', 'dispositif', 'disposition', 'disregard', 'dist', 'distanc', 'distance', 'distancec', 'distanci', 'distingu', 'distract', 'distribu', 'distribut', 'distributeur', 'distributioneduc', 'distributo', 'distributor', 'distribué', 'district', 'distrubt', 'dit', 'diver', 'diversif', 'diversifié', 'diverso', 'divertir', 'divid', 'dividend', 'divis', 'divorc', 'dj', 'django', 'djvxtnb', 'dky', 'dlemq', 'dm', 'dmaanze', 'dmjrgumen', 'dmjrgummerci', 'dmvflkhashtag', 'dn', 'dneg', 'docker', 'docteur', 'doctolib', 'doctor', 'doctrin', 'document', 'documents', 'doe', 'doent', 'doesnt', 'doi', 'dojo', 'dollars', 'dolmeen', 'dolmen', 'dolmengroup', 'domain', 'domaine', 'domaintim', 'domest', 'domicil', 'domicile', 'domin', 'donat', 'donn', 'donnant', 'donner', 'donnera', 'donnerai', 'donneront', 'donnez', 'donnon', 'donné', 'données', 'dontgiveup', 'door', 'dopehar', 'dorment', 'dorénav', 'dosomethinggood', 'dossier', 'dot', 'dotnet', 'doté', 'doubl', 'douceur', 'douleur', 'douloureux', 'download', 'doy', 'dpebsl', 'dpl', 'dplit', 'dr', 'draft', 'drafting', 'drame', 'drawadapt', 'drawn', 'drc', 'dream', 'dreamworld', 'dress', 'drh', 'dri', 'drill', 'drills', 'drink', 'drive', 'driven', 'driver', 'droit', 'drop', 'droplunchmedicalleav', 'droprequir', 'drr', 'drugs', 'drupal', 'drzkgdbon', 'drôle', 'dsm', 'dsr', 'dsxwpsتنبيه', 'dubai', 'dubaijob', 'dubaï', 'due', 'duli', 'duo', 'duplic', 'dur', 'durabl', 'durat', 'dure', 'duré', 'durée', 'dut', 'duti', 'duties', 'dvp', 'dvyekx', 'dwell', 'dwp', 'dx', 'dy', 'dyazhlast', 'dymgpphashtag', 'dynam', 'dynamiqu', 'dynamism', 'dynamisme', 'dyrvwjrprofitez', 'dz', 'dè', 'débat', 'débit', 'début', 'débutant', 'débutante', 'débutants', 'débuter', 'débutera', 'décembr', 'décenni', 'décider', 'décidé', 'décision', 'déclaré', 'déclencher', 'décontract', 'décor', 'décorat', 'décorminimum', 'découvert', 'découvrez', 'découvrir', 'découvron', 'décrocher', 'décè', 'décélération', 'défaut', 'défi', 'définit', 'défis', 'dégât', 'déjeuner', 'déjà', 'délai', 'délicat', 'délégation', 'délégué', 'déléguée', 'démarch', 'démarquer', 'démarrag', 'démarrage', 'démarrer', 'démarrézéro', 'démocratis', 'démonstrat', 'démontrent', 'démontré', 'démotiv', 'démuni', 'dénicher', 'dépannag', 'départ', 'département', 'dépassent', 'dépasser', 'dépistag', 'dépit', 'déplacement', 'déplacer', 'déploie', 'déploiement', 'déployé', 'déposé', 'dépression', 'déprimé', 'déroulé', 'désagrabl', 'désinfect', 'désinformation', 'détachement', 'détail', 'détaillé', 'détermin', 'déterminé', 'détest', 'détruit', 'détérmine', 'dévelopeurs', 'développ', 'développement', 'développeur', 'développez', 'développé', 'dévoilant', 'dévoilé', 'dévrh', 'dîner', 'dû', 'eackxay', 'eager', 'earli', 'earlier', 'earliest', 'earn', 'easi', 'easier', 'east', 'eastern', 'easy', 'ebola', 'ebook', 'echang', 'eco', 'ecol', 'ecologi', 'ecommerc', 'ecompk', 'econom', 'economicrecoveri', 'economics', 'ecosourc', 'ecosource', 'ecoutez', 'edit', 'editor', 'editorssalari', 'edmonton', 'edu', 'eduard', 'educ', 'educateyourself', 'edx', 'effect', 'effectif', 'effectiv', 'effectsloc', 'effectu', 'effectué', 'efficac', 'efficace', 'efficaci', 'efficacité', 'efficacy', 'effici', 'efforcez', 'effort', 'efk', 'efkmhacpleas', 'efroz', 'efxhsihashtag', 'egypt', 'egyptfor', 'ei', 'eid', 'eidgah', 'ejb', 'ejourn', 'ekbvuchashtag', 'ekkytyhashtag', 'el', 'elalami', 'elamiri', 'elastcsearch', 'elbakkouri', 'elbouazzaouimeilleur', 'elearn', 'electr', 'electric', 'electrical', 'electricalskil', 'electrician', 'electromechan', 'electron', 'electronics', 'electronique', 'elementari', 'elementor', 'elhilali', 'elig', 'elimin', 'eljadida', 'ell', 'elmoudentel', 'els', 'elysé', 'emaar', 'email', 'emailyour', 'ematin', 'emballag', 'embauch', 'embauche', 'embauchemerci', 'embauché', 'embroideryloc', 'eme', 'emerg', 'emot', 'emotionalintellig', 'empathiqu', 'emphas', 'emploi', 'emploipourt', 'emploishashtag', 'emploit', 'emploitic', 'employ', 'employe', 'employeeonboard', 'employees', 'employé', 'empreint', 'empêch', 'enabl', 'enacteur', 'enactu', 'encadr', 'encash', 'encashment', 'encg', 'enchaîné', 'encompass', 'encor', 'encourag', 'encouragez', 'endigu', 'endroit', 'energet', 'energi', 'enfant', 'enfants', 'enforc', 'enfoui', 'engag', 'engagez', 'engagezvousconcrèt', 'engagé', 'engagées', 'engendr', 'engendrées', 'engin', 'engineer', 'engineereduc', 'engineering', 'engineeringloc', 'engineerjob', 'engineerloc', 'engineerpost', 'engineers', 'english', 'englishgood', 'englishsend', 'englishwalk', 'engro', 'enhanc', 'enhancv', 'enjoy', 'enlistment', 'ennemi', 'enorm', 'enough', 'enrichir', 'enseign', 'ensembl', 'ensemble', 'ensuit', 'ensur', 'entend', 'enter', 'enterpris', 'entertain', 'enthousiasm', 'enthousiast', 'enthusiast', 'enthusiastic', 'entier', 'entir', 'entiti', 'entitl', 'entité', 'entièr', 'entourag', 'entouron', 'entr', 'entraid', 'entranc', 'entrepreneur', 'entrepris', 'entreprise', 'entreprises', 'entrepôt', 'entretien', 'entri', 'entry', 'enver', 'envi', 'enviesencor', 'environment', 'environmenthands', 'environmentloc', 'environn', 'environnement', 'environnementhashtag', 'environs', 'envisag', 'envoi', 'envoy', 'envoyez', 'envoyé', 'enví', 'eobi', 'eobioth', 'epiccdo', 'epkenqi', 'epla', 'eplanet', 'eplanetcom', 'epm', 'eqb', 'equal', 'equip', 'equipes', 'equipment', 'equiti', 'equival', 'equivalent', 'equivalentexperi', 'era', 'erhöhen', 'erp', 'errands', 'erreur', 'esca', 'escal', 'escap', 'escort', 'esith', 'espac', 'espacebenkiform', 'espagnol', 'especi', 'espoir', 'esprit', 'espritdéquip', 'espèr', 'essai', 'essay', 'essayez', 'essayé', 'essentiel', 'essor', 'esta', 'establish', 'estar', 'estat', 'estateiniti', 'estim', 'estimez', 'estimé', 'está', 'et', 'etabl', 'etabliss', 'etat', 'etats', 'ethic', 'ethnic', 'etihad', 'etr', 'eukdujmhashtag', 'euro', 'europ', 'europe', 'européen', 'européenn', 'evacu', 'evalu', 'evdgjaz', 'even', 'event', 'eventarc', 'ever', 'everi', 'everyon', 'everyth', 'evit', 'eviton', 'evn', 'evolv', 'evènement', 'exactli', 'exampl', 'exceed', 'excel', 'excelgend', 'exceljob', 'excellent', 'excellenttravail', 'except', 'exceptionnel', 'exchang', 'exchange', 'exchangers', 'excit', 'exclusiv', 'exclusivité', 'excus', 'excuson', 'excutiveloc', 'execut', 'executed', 'execution', 'executive', 'executiveb', 'executivedepart', 'executiveeduc', 'executiveexperi', 'executivejob', 'executiveloc', 'executiveminimum', 'executivepost', 'executiveprofici', 'executives', 'executivesposit', 'exempl', 'exemplair', 'exerc', 'exercis', 'exhaustif', 'exid', 'exide', 'exig', 'exigeon', 'exigé', 'eximp', 'exist', 'exod', 'exp', 'expand', 'expans', 'expatrié', 'expect', 'expens', 'expenses', 'expensesvendor', 'experi', 'experienc', 'experience', 'experienceaddit', 'experiencebrief', 'experiencedepart', 'experiencekarachipro', 'experiencelahore', 'experienceloc', 'experiencematricul', 'experiencemeasur', 'experiencerequir', 'experiences', 'experiencesalari', 'experienceskil', 'experienceto', 'experiencia', 'expert', 'expertcompani', 'expertis', 'expertloc', 'expertropstam', 'expir', 'explain', 'expliqu', 'exploitation', 'explor', 'explos', 'exponentiel', 'export', 'expos', 'exposur', 'exposure', 'exposé', 'express', 'exprim', 'expédit', 'expéri', 'expérienc', 'expérience', 'expériences', 'expérimenté', 'ext', 'extend', 'extens', 'extern', 'externeprofil', 'extra', 'extract', 'extraordinair', 'extraordinari', 'extrêm', 'extrêmement', 'extérieur', 'exécut', 'ey', 'eye', 'ezzahra', 'ezzemani', 'fabaha', 'fabric', 'fabricación', 'fabricon', 'fabriqu', 'fabtiqu', 'face', 'facebook', 'facelift', 'facil', 'facilit', 'facilitiesexperi', 'facilityinterest', 'factori', 'factors', 'factory', 'factur', 'faculti', 'faculté', 'fahad', 'fahadhussain', 'fai', 'faill', 'fainéant', 'fair', 'faire', 'faisai', 'faisait', 'faisal', 'faisalabad', 'faisalappli', 'faisalexperienced', 'faisalsalari', 'faislabad', 'faison', 'faiyaz', 'fake', 'fakhri', 'falaknaz', 'falcon', 'falconitracking', 'fall', 'famil', 'famili', 'familiar', 'famillesdemunieshashtag', 'family', 'famou', 'far', 'farah', 'faran', 'farheen', 'farm', 'farmer', 'faro', 'farooq', 'farrukh', 'farwardingexperi', 'farzana', 'fashion', 'fasihsi', 'fass', 'fast', 'faster', 'fastest', 'fatihi', 'fatima', 'fatimazahra', 'faudrait', 'fault', 'faultsprovid', 'fauss', 'faut', 'faveur', 'favor', 'favoris', 'fawad', 'fawadresourc', 'faît', 'fb', 'fbi', 'fbr', 'fbuvkw', 'fbzy', 'fcmi', 'fe', 'fear', 'featur', 'feder', 'fedex', 'fee', 'feedback', 'feel', 'fei', 'fellah', 'fellow', 'fema', 'femal', 'female', 'femaleartist', 'femaledur', 'femaleedu', 'femaleelig', 'femalefor', 'femalekindli', 'femaleloc', 'femalemehandi', 'femaleno', 'femaleoffic', 'femalereceptionist', 'femalerequir', 'femin', 'feminin', 'femm', 'fera', 'ferai', 'fermetur', 'fermé', 'feroze', 'ferozepur', 'ferozpur', 'ferrailleur', 'fertil', 'feu', 'feuill', 'fevrier', 'fg', 'fiabilité', 'fiabl', 'fiber', 'fibonacci', 'fibonacciagency', 'fibr', 'fichier', 'ficou', 'fidélis', 'field', 'fieldincumb', 'fieldpackag', 'fieldrespons', 'fields', 'fier', 'fierté', 'fight', 'figurez', 'fil', 'file', 'filed', 'fili', 'filial', 'filièr', 'fill', 'fin', 'final', 'finalist', 'finalists', 'financ', 'finance', 'financecandid', 'financecompani', 'financeeduc', 'financeexperi', 'financegéni', 'financeloc', 'financement', 'financepost', 'financequalif', 'financeun', 'financi', 'financièr', 'find', 'fine', 'finesolubl', 'fini', 'finish', 'finit', 'firefight', 'firm', 'firms', 'first', 'fiscal', 'fit', 'five', 'fix', 'fixer', 'fixes', 'fixez', 'fixé', 'fièr', 'flag', 'flashsix', 'flashyourlightseverynight', 'flask', 'flat', 'flatten', 'flavor', 'fleet', 'fleur', 'flexi', 'flexibl', 'flexible', 'flexihourspakistan', 'flipp', 'floor', 'flow', 'flowingradi', 'fluenci', 'fluent', 'fm', 'fmcg', 'fnac', 'focu', 'focus', 'foi', 'follow', 'following', 'followings', 'fonction', 'fonctionn', 'fonctionnalités', 'fonctionnement', 'fond', 'fondamental', 'fondat', 'fondationzakoura', 'fondement', 'food', 'foodduti', 'foodpanda', 'foodpandaposit', 'foodpandareport', 'foods', 'foot', 'footballeur', 'footwear', 'fora', 'foran', 'forb', 'forc', 'force', 'forcément', 'ford', 'forecast', 'foreground', 'foreign', 'forest', 'foreword', 'forfemal', 'forget', 'forhimont', 'form', 'formal', 'format', 'formateur', 'formation', 'forme', 'former', 'formid', 'forms', 'formul', 'formula', 'formulair', 'forrun', 'fort', 'fortement', 'forth', 'fortun', 'forum', 'forward', 'fou', 'found', 'foundat', 'foundation', 'foundationjob', 'founder', 'four', 'fournir', 'fournira', 'fournisseur', 'fournisseurs', 'fournisson', 'fournitur', 'fourth', 'fr', 'fragil', 'frai', 'frame', 'framework', 'franc', 'franceconducteur', 'franch', 'franchement', 'franchi', 'francophon', 'frank', 'françai', 'français', 'française', 'frapper', 'fraternité', 'fraud', 'fraîchement', 'fre', 'free', 'freedom', 'freelanc', 'freelance', 'freelancerlifehashtag', 'freight', 'french', 'frequent', 'fresh', 'freshbenefit', 'fresher', 'freshgend', 'freshloc', 'freshqualif', 'freshsalari', 'fri', 'friday', 'fridayloc', 'friend', 'friendship', 'frihour', 'fring', 'front', 'frontier', 'frontièr', 'frp', 'frréf', 'frénésie', 'fsd', 'fst', 'ftc', 'fte', 'ftth', 'ftthgestion', 'fuel', 'fuelani', 'fuelcandid', 'fuelemail', 'fulcrum', 'fulfil', 'full', 'fullstack', 'fulltim', 'fun', 'funct', 'function', 'functionn', 'functions', 'fund', 'fundament', 'fundgratuityloc', 'fundrais', 'fundraisingmanagerposit', 'fur', 'furth', 'futur', 'fuyez', 'fvthank', 'fxmhmg', 'fè', 'fédéral', 'félicit', 'féliciton', 'février', 'fête', 'ga', 'gabon', 'gachant', 'gafddc', 'gagn', 'gagnant', 'gagner', 'gahmpcncovid', 'gain', 'gainlo', 'galita', 'gam', 'game', 'gang', 'gant', 'gar', 'garant', 'garantir', 'gard', 'garde', 'garden', 'garder', 'gardera', 'gardez', 'gardon', 'gardé', 'gari', 'garment', 'garmentsloc', 'gate', 'gath', 'gather', 'gatron', 'gave', 'gcspvt', 'gecqst', 'geek', 'geeksforgeeks', 'gel', 'gen', 'gend', 'gender', 'genderequ', 'gener', 'generalist', 'geneva', 'geni', 'genius', 'genr', 'gent', 'gentil', 'genuin', 'geolog', 'geologypag', 'germani', 'gerri', 'gerrys', 'gest', 'gestion', 'gestionmiss', 'gestionnair', 'get', 'gettingthingsdon', 'getz', 'getzpharma', 'geujfzztrè', 'gf', 'gfi', 'gfijwdb', 'gfijwdbi', 'gfs', 'ggkedjuhashtag', 'ggt', 'ghalab', 'ghnimifaiss', 'ghouri', 'ghufran', 'ghulam', 'gift', 'girl', 'girlkindli', 'gisalari', 'git', 'gitflow', 'github', 'gitlab', 'give', 'given', 'gjsvjqh', 'gl', 'glad', 'glandeur', 'glasswar', 'global', 'globe', 'gmail', 'gmjh', 'gng', 'go', 'goal', 'gober', 'god', 'goe', 'going', 'goingaboveandbeyond', 'gold', 'golf', 'golfcours', 'gone', 'good', 'goodknowledg', 'goodorif', 'goodsinterest', 'googl', 'gosaas', 'got', 'gotten', 'gouvern', 'gov', 'govern', 'goût', 'gpczqmpleas', 'gpgnmer', 'gpon', 'gpr', 'gqdtn', 'gr', 'grab', 'grace', 'gracia', 'gracias', 'gracieus', 'gracieux', 'grad', 'grade', 'grades', 'grado', 'gradu', 'graduat', 'graduate', 'graduated', 'graduateexperi', 'graduatejob', 'graduateloc', 'graduates', 'graduatesalari', 'graduatesqualif', 'graduation', 'graduationexperi', 'graduationnot', 'grammar', 'grand', 'grandmast', 'grant', 'granul', 'graph', 'graphic', 'gratitud', 'gratitude', 'gratuit', 'gratuiti', 'gratuity', 'gratuité', 'grave', 'gravir', 'grcwvx', 'great', 'green', 'greenpowerlink', 'greet', 'gregori', 'grievanc', 'grip', 'gripp', 'grippea', 'grn', 'gro', 'gross', 'grossesse', 'grossist', 'ground', 'group', 'groupbi', 'groupe', 'groupehn', 'groupeinegma', 'groupement', 'grouperappel', 'grouptitl', 'grow', 'growth', 'gruposolutio', 'grâc', 'grâce', 'gst', 'gtsrecruit', 'guarantees', 'guard', 'gucci', 'guerr', 'guess', 'guest', 'guichet', 'guid', 'guidanc', 'guidelin', 'guidelines', 'gujaranwala', 'gul', 'gulahmed', 'gulberg', 'gulistan', 'gullw', 'gulshan', 'gulshanpleas', 'gulshanw', 'gulslan', 'gumcorp', 'gup', 'gurumangat', 'gustav', 'guy', 'gwr', 'gxrsmj', 'gyne', 'gzjjjbg', 'gzvqgfmn', 'gâcher', 'génial', 'génie', 'général', 'générale', 'généralement', 'génération', 'générer', 'généreux', 'générosité', 'gérer', 'habib', 'habibmetro', 'habiboil', 'habit', 'habitud', 'habitudes', 'habituel', 'habituelle', 'hachimi', 'hacksagon', 'hade', 'hadeedbenefit', 'hadoop', 'hafid', 'hafiz', 'hai', 'haid', 'hain', 'hair', 'hala', 'half', 'halifaxjob', 'hall', 'hallali', 'hamdard', 'hamdolillah', 'hamicheafida', 'hamid', 'hamidismail', 'hammad', 'hamper', 'hamza', 'hana', 'hand', 'handheld', 'handl', 'handlingloc', 'hands', 'handsom', 'hanif', 'hanifhospit', 'happen', 'happi', 'happier', 'happiness', 'harass', 'hard', 'hardwar', 'hardware', 'hardwork', 'hardworkmoncef', 'haripur', 'harm', 'harmoni', 'haroon', 'harouch', 'harroudadan', 'harvard', 'hasan', 'hascol', 'hashim', 'hashmani', 'hashmanis', 'hashtag', 'hasnain', 'hassan', 'hate', 'haut', 'hautement', 'hauts', 'hav', 'hayatkimya', 'hazard', 'hbl', 'hc', 'hcm', 'hdidou', 'head', 'headhunt', 'headlinescollabor', 'heads', 'health', 'healthcar', 'healthi', 'heard', 'heartfelt', 'heat', 'heather', 'hec', 'height', 'hello', 'hellolinkedinwho', 'help', 'helpdesk', 'helpeachoth', 'helper', 'helperloc', 'helpers', 'helpfulnouhaila', 'helplin', 'helsabagh', 'hemo', 'henc', 'herald', 'herbion', 'hero', 'heroku', 'hesit', 'heur', 'heureus', 'heureux', 'hey', 'hezitez', 'hga', 'hh', 'hiba', 'hibern', 'hichem', 'hier', 'high', 'higher', 'highest', 'highli', 'highlight', 'highly', 'highnoon', 'hikma', 'hilal', 'hilalcare', 'hilali', 'himanshumistryhashtag', 'himont', 'hina', 'hindi', 'hir', 'hire', 'hiring', 'hiringandpromot', 'hiringposit', 'hisab', 'histoir', 'histori', 'historiqu', 'hit', 'hk', 'hm', 'hnmmk', 'hoard', 'hoc', 'hod', 'hoga', 'hogi', 'hogii', 'hojayega', 'hold', 'holder', 'hom', 'home', 'homefoodmagimix', 'homehashtag', 'homemad', 'homenext', 'homerespons', 'homm', 'homologué', 'homsys', 'honda', 'honor', 'hope', 'hopekarachigmo', 'hopitaux', 'horair', 'horaire', 'horecamust', 'horizon', 'hormon', 'hosiery', 'hospit', 'hospitalcontact', 'hospitalgulshan', 'hospitalityjob', 'hospitalièr', 'hossam', 'host', 'hotel', 'hotels', 'hotmail', 'houlett', 'hour', 'hours', 'hoursjob', 'hourssalari', 'hous', 'house', 'household', 'houseloc', 'howev', 'hp', 'hpi', 'hpn', 'hr', 'hrbp', 'hrcareers', 'hrcompet', 'hrd', 'hrdpk', 'hrexcel', 'hrexperi', 'hrfirst', 'hrgsa', 'hri', 'hrinbox', 'hrinternships', 'hrjob', 'hrlaborgroup', 'hrlegends', 'hrlocat', 'hrm', 'hrmanag', 'hrmexperi', 'hrmi', 'hrpakistan', 'hrpk', 'hrplug', 'hrrecord', 'hrsg', 'hrsgonline', 'hrth', 'hru', 'hrwe', 'hsc', 'hse', 'hsenou', 'hsja', 'html', 'http', 'hua', 'hubaccommod', 'hubei', 'hubs', 'hubvisit', 'hug', 'huma', 'humain', 'humaines', 'human', 'humancapital', 'humanidad', 'humanité', 'humanresourc', 'humanresource', 'humbl', 'humeur', 'humorist', 'hunain', 'hunger', 'hunt', 'hurt', 'hutchison', 'huwa', 'huzaifa', 'hvac', 'hvacmainten', 'hvacrepair', 'hvactech', 'hyder', 'hyderabad', 'hyderabadcontact', 'hyderabaddesir', 'hyderi', 'hydro', 'hydroalcooliqu', 'hygien', 'hygièn', 'hygiéniste', 'hyper', 'héro', 'hésiter', 'hésitez', 'hôpital', 'hôtel', 'hôtelleri', 'ia', 'iarh', 'ibex', 'ibexglobal', 'ibm', 'ibrahim', 'ic', 'ichrak', 'ici', 'icinc', 'icma', 'icumsa', 'idea', 'ideal', 'ideas', 'identif', 'identifi', 'identification', 'idreferencezaidi', 'idriss', 'idé', 'idéal', 'ie', 'ieee', 'if', 'ifema', 'iftikhar', 'igm', 'ignor', 'igorbeuk', 'ii', 'iii', 'ijaz', 'ikhla', 'ilaqay', 'ilfautsauv', 'illiter', 'illustr', 'illustrator', 'illustratoroth', 'ilya', 'imag', 'imagi', 'imaginez', 'imane', 'imbécil', 'imen', 'imh', 'immedi', 'immediat', 'immediately', 'immediatelypleas', 'immens', 'immers', 'immigr', 'immigré', 'immobili', 'immun', 'immédiat', 'immédiate', 'immédiatement', 'immédiatementmerci', 'immédiatementsur', 'immédiateobjet', 'immédiatepost', 'immédiatl', 'impact', 'impass', 'impati', 'impayé', 'impex', 'implement', 'implementationleadshashtag', 'implementations', 'implicit', 'impliqué', 'import', 'important', 'importappli', 'imposé', 'impresión', 'impresora', 'impress', 'improv', 'improveyourself', 'imprévu', 'impuiss', 'impérativ', 'impérial', 'imranali', 'imrankhan', 'imteaz', 'imtiaz', 'imtiazsupermarket', 'inaccuracies', 'inaperçu', 'inbound', 'inbox', 'inc', 'incapacité', 'incarcéré', 'inceduc', 'incent', 'incentive', 'incentiveinterest', 'incentiveintern', 'incentiveoth', 'incentives', 'incentivesminimum', 'inchaallah', 'incharg', 'incharge', 'inchargeloc', 'incid', 'incidentssvnara', 'incluant', 'includ', 'include', 'includesverif', 'inclus', 'inclusionhashtag', 'incom', 'incompréhens', 'inconsci', 'incontourn', 'incontrôlables', 'incorporacion', 'increas', 'increment', 'incroy', 'incumb', 'incur', 'indeed', 'independ', 'independentlyeag', 'india', 'indiabixindiabixbonn', 'indianapolisclick', 'indic', 'indicateur', 'indigen', 'indisciplin', 'indispens', 'indispensable', 'indispensables', 'indispensablesqualité', 'individu', 'indoor', 'indoorsalesexecut', 'indu', 'indulg', 'industri', 'industrial', 'industriel', 'industries', 'industriespleas', 'industry', 'industryag', 'industryeduc', 'indépendant', 'inequ', 'inestim', 'inf', 'infect', 'infection', 'infertil', 'infiltr', 'infini', 'infinitivebusinesssolutions', 'infirmi', 'infirmièr', 'influenc', 'influenceur', 'info', 'infograph', 'infographicdesign', 'infona', 'inform', 'information', 'informatiqu', 'informatique', 'informatiquesi', 'informatiquesmaîtris', 'informel', 'informé', 'infract', 'infrastructur', 'infrastuctur', 'ingredi', 'ingénieri', 'ingénieur', 'initi', 'initiative', 'initiativehashtag', 'initiativesanalyz', 'inject', 'injecté', 'ink', 'inmediata', 'inn', 'innov', 'input', 'inquiri', 'inscrivez', 'insid', 'insight', 'insights', 'insol', 'inspect', 'inspections', 'inspector', 'inspir', 'inspirez', 'instagram', 'instal', 'instant', 'instead', 'institut', 'institute', 'instituteur', 'institution', 'instruct', 'instructorloc', 'instrument', 'insuffis', 'insulin', 'insult', 'insur', 'insurance', 'insuranceappli', 'insurancegratuity', 'integr', 'intelcia', 'intelciafrancecert', 'intellectu', 'intellig', 'intelligence', 'intelligencefactori', 'intelligenceémotionnellehashtag', 'intens', 'inter', 'interact', 'interactive', 'interactmarketingsolut', 'interdict', 'interessé', 'interest', 'interestedmi', 'interior', 'interloc', 'intermedi', 'intermediate', 'intermediateexperi', 'intermediatekindli', 'intermediateskil', 'intermid', 'intermod', 'intermodal', 'intern', 'international', 'internationalwomensday', 'internaton', 'interne', 'internet', 'internship', 'internshippleas', 'internshiprequir', 'internw', 'interperson', 'interpleas', 'intersalari', 'interst', 'intervent', 'interview', 'interviewbest', 'interviewe', 'interviewsaddress', 'interviewup', 'interviw', 'intim', 'intimität', 'intitulé', 'intrest', 'intuit', 'intégr', 'intégralité', 'intégrat', 'intégrer', 'intégrerait', 'intégrité', 'intéract', 'intéress', 'intéressant', 'intéresse', 'intéressé', 'intérieur', 'intérim', 'intérêt', 'inutil', 'invent', 'inventori', 'inventory', 'inventoryelig', 'inventé', 'invest', 'investig', 'investir', 'investiss', 'investit', 'invisible', 'invit', 'inviton', 'invoic', 'invoices', 'invoicesmak', 'involv', 'inédit', 'io', 'iodin', 'ios', 'iosh', 'iot', 'ipfig', 'ips', 'iq', 'iqb', 'iqbal', 'iqbalsend', 'iqra', 'ir', 'ira', 'iran', 'irfan', 'irrelev', 'isb', 'isca', 'ishaqu', 'islam', 'islamabad', 'islamabadanalyz', 'islamabadattract', 'islamabaddetail', 'islamabaddetails', 'islamabadeduc', 'islamabademploy', 'islamabadgend', 'islamabadindustri', 'islamabadsend', 'islamabadtelephon', 'islamiat', 'ismail', 'isol', 'isolé', 'isp', 'iss', 'issac', 'issiakhem', 'issu', 'issuanc', 'issues', 'issuesappli', 'istepc', 'itali', 'italien', 'itcontrol', 'item', 'itil', 'itilen', 'itinérantsetr', 'itipart', 'itloc', 'itpost', 'itsend', 'itunesu', 'itverticals', 'itzler', 'iv', 'ivoir', 'içi', 'jacek', 'jack', 'jacqu', 'jadida', 'jaffer', 'jai', 'jail', 'jaiy', 'jalani', 'jamai', 'jamais', 'jamil', 'jana', 'janatacurfew', 'jantay', 'jardin', 'jarmouni', 'jasmin', 'jauhar', 'jauhartim', 'java', 'javaje', 'javascript', 'jaw', 'je', 'jee', 'jenbach', 'jenkin', 'jerestechezmoihashtag', 'jess', 'jesu', 'jet', 'jetabl', 'jeter', 'jeudi', 'jeun', 'jeunes', 'jeux', 'jewelri', 'jg', 'jhelum', 'jibberjobber', 'jihad', 'jiker', 'jin', 'jinnah', 'jira', 'jmeter', 'jo', 'jobalert', 'jobbait', 'jobcareers', 'jobinkarachi', 'jobless', 'joblist', 'jobopportun', 'jobs', 'jobseek', 'jobsforfemal', 'jobvac', 'jobz', 'johar', 'joharag', 'johnni', 'joie', 'joignable', 'join', 'joindr', 'joiners', 'joint', 'jordan', 'jose', 'joue', 'jour', 'journal', 'journali', 'journalièr', 'journey', 'journé', 'journéeghita', 'journéel', 'joyeus', 'jpa', 'jqueri', 'jqueryappli', 'jr', 'js', 'jsbl', 'jsil', 'jubile', 'judged', 'juger', 'jump', 'junaidahmed', 'june', 'junior', 'juniors', 'juniour', 'junto', 'just', 'justdigital', 'justforservice', 'justifiez', 'jydmkb', 'ka', 'kaam', 'kabbaj', 'kadriv', 'kafkapleas', 'kage', 'kaggl', 'kaghat', 'kai', 'kaizen', 'kal', 'kam', 'kamal', 'kamel', 'kamoun', 'kanwal', 'kar', 'karach', 'karachi', 'karachia', 'karachiag', 'karachiappli', 'karachibahadurabadcontact', 'karachicandid', 'karachicompani', 'karachicontact', 'karachicv', 'karachidur', 'karachieduc', 'karachielig', 'karachiemail', 'karachiemploy', 'karachiexperi', 'karachiey', 'karachiforward', 'karachigend', 'karachihashtag', 'karachiherbion', 'karachihow', 'karachiinterest', 'karachikindli', 'karachimust', 'karachino', 'karachinumb', 'karachipackag', 'karachiphon', 'karachipleas', 'karachipreff', 'karachiprofil', 'karachirequir', 'karachirespons', 'karachisalari', 'karachisend', 'karachishahrah', 'karachishar', 'karachisubject', 'karachiteach', 'karachitelephon', 'karachitim', 'karachito', 'karachivisit', 'karachiw', 'karachiy', 'karam', 'karamkimya', 'karaok', 'karen', 'karni', 'karsaz', 'karwa', 'katia', 'kawtar', 'kay', 'kbctechnologies', 'kbd', 'kclient', 'ke', 'keach', 'keamari', 'keen', 'keep', 'keeper', 'keeptri', 'kelaa', 'kelaâ', 'kemail', 'kench', 'kenitra', 'kenmasshr', 'kenya', 'kenzi', 'kerashashtag', 'kere', 'kerhashtag', 'kerkennah', 'kernel', 'kestrel', 'kewo', 'key', 'keynotespeak', 'keyword', 'kfc', 'kg', 'khadda', 'khaddoum', 'khadija', 'khaleef', 'khalid', 'khalil', 'khan', 'kharadar', 'kharrat', 'khi', 'khir', 'kho', 'khoji', 'khona', 'khouribga', 'khsihem', 'khushabloc', 'khwari', 'khénifra', 'khénifrasur', 'ki', 'kia', 'kick', 'kid', 'kidney', 'kidneycentre', 'kill', 'kimyaposit', 'kind', 'kindli', 'king', 'kinza', 'kiran', 'kit', 'kitchen', 'klocat', 'klunch', 'km', 'kmon', 'knit', 'know', 'knowledg', 'knowledge', 'knowledgedepart', 'knowleg', 'known', 'ko', 'koffic', 'kohler', 'koi', 'koli', 'kompasspakistan', 'korangi', 'korangiemail', 'kot', 'koutoun', 'kpi', 'kpleas', 'krequir', 'kri', 'kshellebi', 'kshift', 'ktime', 'ktm', 'kuch', 'kudo', 'kumari', 'kw', 'kxk', 'kya', 'kénitra', 'la', 'laam', 'lab', 'labatt', 'label', 'labomarket', 'labor', 'laboratoir', 'laboratori', 'laboratorio', 'labour', 'labours', 'labrador', 'labs', 'lack', 'ladecorpk', 'ladi', 'laga', 'lagta', 'lah', 'lahor', 'lahore', 'lahoreappli', 'lahorecl', 'lahorecontact', 'lahoreemail', 'lahoreexperi', 'lahoreinterest', 'lahoreno', 'lahorephon', 'lahorepost', 'lahorerequir', 'lahoresalari', 'lahoresend', 'lahorewebsit', 'laid', 'laiss', 'laissent', 'laisser', 'laisserez', 'laissez', 'laisson', 'laissé', 'lakh', 'lakhani', 'lakhpat', 'lakson', 'lanc', 'lancé', 'land', 'landhi', 'landhiindustri', 'landi', 'lane', 'langag', 'langu', 'languag', 'lança', 'lap', 'lapin', 'laptop', 'laquel', 'laravel', 'larg', 'largest', 'larkay', 'larm', 'last', 'later', 'latest', 'latesttrend', 'latex', 'latif', 'latifa', 'latium', 'launch', 'launder', 'laundri', 'laurent', 'lauréat', 'lavez', 'law', 'lawinterest', 'lawrenc', 'lay', 'layout', 'le', 'lead', 'leaddescript', 'leader', 'leadership', 'leads', 'lean', 'learn', 'learner', 'learning', 'leas', 'least', 'leav', 'leaves', 'leavesloc', 'lebchiri', 'lectur', 'ledger', 'ledgersassist', 'ledr', 'leemor', 'leetcode', 'left', 'leftoversdeliv', 'legal', 'legality', 'legend', 'legendesk', 'leidenschaft', 'leishenshan', 'len', 'lendemain', 'length', 'lerif', 'lesecho', 'less', 'lessdfveulentunchezsoi', 'lesson', 'let', 'letter', 'lettr', 'leucémi', 'level', 'levels', 'lever', 'leverag', 'levi', 'levé', 'lfa', 'lhr', 'lhri', 'liais', 'liaison', 'liaqutabad', 'liberia', 'liberti', 'libertybooks', 'liberté', 'libertécar', 'libr', 'librari', 'librarian', 'librarianloc', 'libre', 'librepend', 'libèr', 'licenc', 'licens', 'lie', 'lien', 'lieu', 'lieux', 'life', 'lifecycl', 'lifestyl', 'lift', 'lifter', 'lightgbm', 'lightwavedigital', 'lign', 'ligne', 'lignit', 'like', 'liker', 'lill', 'limit', 'limited', 'limiteddur', 'lin', 'line', 'lineappl', 'linejob', 'linelast', 'linemanpost', 'lines', 'linesend', 'link', 'linkedien', 'linkedin', 'linkedinconnect', 'linkedinhashtag', 'linkedinlearn', 'linkedinprofil', 'linkedinrecruit', 'linkedinsalesnavigatorhashtag', 'linkedinun', 'lintérieur', 'linux', 'linuxoptimis', 'linuxpour', 'liquid', 'liquidité', 'lire', 'lisait', 'lisez', 'lissasfa', 'list', 'listen', 'lit', 'lite', 'literatur', 'litr', 'littl', 'littleword', 'live', 'livewir', 'livewirelabs', 'livr', 'livraison', 'livrer', 'livré', 'liy', 'llceduc', 'lld', 'lnkd', 'lo', 'load', 'loation', 'loc', 'local', 'locat', 'location', 'locaux', 'lock', 'lockdown', 'lod', 'log', 'logement', 'logiciel', 'logicose', 'logicoseinfograph', 'logicoselogicos', 'logicoseposit', 'logist', 'logistics', 'logisticsloc', 'logistiqu', 'logistique', 'logistiquedispon', 'logo', 'logé', 'loi', 'loin', 'lombardi', 'long', 'longtemp', 'longu', 'longueur', 'look', 'looking', 'lookout', 'loom', 'loophol', 'lopez', 'lor', 'lorsqu', 'lose', 'losrqu', 'loss', 'lost', 'lot', 'loubna', 'loupé', 'lourd', 'love', 'lower', 'loyer', 'ltd', 'ltdproduct', 'ltdrequir', 'ltv', 'lu', 'lucha', 'lucki', 'lucky', 'lunatiqu', 'lunch', 'lundi', 'lune', 'lutt', 'lutter', 'lux', 'luxueus', 'ly', 'lycé', 'lye', 'légère', 'maandich', 'maangni', 'maarouf', 'mabudget', 'mac', 'machchat', 'machin', 'machine', 'machinelearn', 'machinelearninghashtag', 'machineri', 'macros', 'madagascar', 'made', 'madiha', 'madrid', 'magazin', 'magento', 'maghrébin', 'magimix', 'magiqu', 'magnifiqu', 'maha', 'mahnoor', 'mahvashinam', 'mai', 'mail', 'mailchimp', 'mailto', 'main', 'mainli', 'maintain', 'mainten', 'maintenance', 'maintenc', 'maintien', 'mair', 'mairi', 'maison', 'maitris', 'majesté', 'major', 'majorité', 'mak', 'make', 'maker', 'makewond', 'making', 'makingsupport', 'mal', 'malad', 'maladi', 'malawi', 'malchanc', 'male', 'maleappli', 'maleexperi', 'maleloc', 'malemust', 'malenearbi', 'malequalif', 'maleresponsibilitiesresearch', 'malesalari', 'malfunctionsrequir', 'malheureus', 'malik', 'malikhashtag', 'malir', 'malirsalari', 'mall', 'mallorca', 'mam', 'maman', 'mamh', 'man', 'manag', 'manage', 'management', 'managemente', 'managementrequir', 'manager', 'manageran', 'managerfollow', 'manageri', 'managerindustri', 'managerjob', 'managerloc', 'managernumb', 'managerpost', 'managerqualif', 'managersami', 'managerwhattsapp', 'mandatori', 'mandatory', 'mandiexpress', 'manger', 'mangez', 'mangophir', 'mani', 'manifest', 'manipul', 'manièr', 'manner', 'mannersgood', 'manqu', 'manquent', 'manqueront', 'manual', 'manuel', 'manufactur', 'manufacturing', 'manufacturingn', 'manufaturing', 'manzil', 'map', 'mapcourtesi', 'mapl', 'mar', 'march', 'marchhashtag', 'marché', 'marg', 'margin', 'maria', 'mariashotelcheckhashtag', 'mariem', 'maritim', 'marium', 'mark', 'markaz', 'market', 'marketdepart', 'marketing', 'marketingand', 'marketingappli', 'marketingfrom', 'marketinggend', 'marketingif', 'marketingloc', 'marketingno', 'marketingpaid', 'marketingpost', 'marketingstrategi', 'marketingsuccess', 'marketplac', 'marketrequir', 'marketsal', 'markterdescript', 'maroc', 'marocain', 'marocainsuniscontrecorona', 'marochashtag', 'marocmissionsfidélis', 'marocovid', 'marouan', 'marquer', 'marqué', 'marrakech', 'marrakechsur', 'marriag', 'marriottkarachi', 'mart', 'marwatgroup', 'marya', 'maryamfatima', 'maryum', 'mascarad', 'masjid', 'masmouli', 'mason', 'masoyon', 'masqu', 'massag', 'massif', 'massiv', 'mast', 'master', 'masterclass', 'mastermotor', 'mastern', 'masters', 'mastersappl', 'mastersexperi', 'match', 'materi', 'material', 'materials', 'maternel', 'math', 'mathemat', 'mathematician', 'mathematics', 'mathful', 'mathématiqu', 'matin', 'matins', 'matièr', 'matlab', 'matlabinthemiddleeasthttp', 'matplotlib', 'matric', 'matricexperi', 'matricsalari', 'matricul', 'matriculation', 'matrixexperi', 'matter', 'mattery', 'matur', 'matériaux', 'matériel', 'mauric', 'mauritani', 'mauritania', 'mauritanienn', 'mauvai', 'mauvais', 'mauzmatai', 'maven', 'mawenzi', 'max', 'maxhashtag', 'maxim', 'maximal', 'maximum', 'maxso', 'may', 'maya', 'mayb', 'mayonnais', 'maârouf', 'maîtr', 'maîtris', 'maîtrisez', 'maîtrisé', 'mañana', 'mb', 'mba', 'mbaexperi', 'mbagend', 'mbb', 'mbbs', 'mbclassic', 'mbreux', 'mbxretailcar', 'mcb', 'mcbah', 'mcom', 'mdbpl', 'mdf', 'meal', 'meals', 'mean', 'meaning', 'measur', 'mecatroniqueweb', 'mechan', 'mechanical', 'mechanicalloc', 'mechatron', 'meddahi', 'media', 'medic', 'medicin', 'medouina', 'meet', 'meeting', 'meetings', 'meetingsinterest', 'meetingsl', 'mehdi', 'mehmoodabad', 'mehnat', 'mehtab', 'mei', 'meilleur', 'meilleurs', 'melinda', 'member', 'membr', 'memori', 'men', 'menac', 'menon', 'mensuel', 'mental', 'mentale', 'mentalité', 'mention', 'mentionin', 'mentionn', 'mera', 'mercedesbenz', 'mercedesbenzmaybachfan', 'mercedescandid', 'merchandis', 'merchandise', 'merchandiser', 'merci', 'mercidevotreconfianceetsupport', 'merciii', 'mercipourcetélandesolidarité', 'mercredi', 'mere', 'meriem', 'mesalari', 'mesdam', 'mess', 'messag', 'messageri', 'mesur', 'mesure', 'mesurez', 'met', 'metal', 'method', 'methodolog', 'meticul', 'metro', 'metrovil', 'mettant', 'mettent', 'mettez', 'mettr', 'mexico', 'mezangroup', 'mezangrp', 'mezzanin', 'mfarooq', 'mg', 'mhe', 'mi', 'michaeldavid', 'microinformatica', 'microservicefront', 'microsoft', 'mid', 'middl', 'middlewar', 'midi', 'mieux', 'might', 'migrat', 'milan', 'milat', 'milk', 'mill', 'millat', 'milliard', 'millier', 'million', 'miloudzemrouraidons', 'min', 'mind', 'minds', 'mindset', 'mine', 'miner', 'mineralscheck', 'minim', 'minimalist', 'minimis', 'minimum', 'minimumsi', 'minimun', 'ministr', 'ministri', 'ministèr', 'ministère', 'minor', 'minut', 'miracl', 'mirza', 'mis', 'mise', 'misez', 'misha', 'mision', 'misreport', 'miss', 'misses', 'missing', 'mission', 'missions', 'missionshashtag', 'mistak', 'mister', 'misunderstand', 'misunderstood', 'mit', 'mkhan', 'ml', 'mlj', 'mlpleas', 'mm', 'mmcl', 'mnbec', 'mnc', 'mobil', 'mobile', 'mobiletechnolog', 'mobilis', 'mobilisé', 'mobilité', 'mobismart', 'mode', 'model', 'moder', 'modest', 'modul', 'modulessend', 'modèl', 'modélis', 'modérat', 'moeen', 'moham', 'mohammad', 'mohammedia', 'mohammédia', 'mohmmaddanial', 'mohsin', 'moin', 'mois', 'moisactivité', 'moitié', 'mokhtar', 'moment', 'mominhussain', 'monahan', 'moncef', 'mond', 'monday', 'monde', 'mondial', 'mondialis', 'money', 'mongodb', 'monitor', 'monsieur', 'montando', 'montant', 'montar', 'monter', 'montessori', 'month', 'monthfresh', 'monthinternship', 'monthli', 'monthqualif', 'months', 'monthsinterest', 'monthsinternship', 'monthsproject', 'monthssalari', 'monthstim', 'montraient', 'montreal', 'montrealjob', 'montrent', 'montrer', 'montrez', 'monté', 'monument', 'moral', 'moreloc', 'moreov', 'morn', 'moroccan', 'morocco', 'morsh', 'mort', 'mortal', 'mostli', 'mot', 'moteur', 'mother', 'motion', 'motiv', 'motivated', 'motivatioftheday', 'motivationoftheday', 'motivez', 'motivé', 'motor', 'motorcycl', 'mouden', 'moufid', 'mouhcine', 'moul', 'moulay', 'mouna', 'mouradi', 'mourir', 'mov', 'move', 'movi', 'moyen', 'moyenn', 'mp', 'mr', 'mrfaisalsgaikh', 'mrp', 'ms', 'msc', 'msclocat', 'mscplz', 'msg', 'mso', 'mssql', 'mt', 'mtalib', 'mto', 'muakkaram', 'much', 'muestra', 'muhammad', 'mujtabakhank', 'mulesoft', 'multan', 'multi', 'multican', 'multilynx', 'multimillionnair', 'multin', 'multinational', 'multinet', 'multipl', 'multipleloc', 'multiplicité', 'multitask', 'mumtaz', 'municip', 'municipal', 'murad', 'mure', 'muridkay', 'murtazazah', 'mushroomofficial', 'mushtaq', 'musleh', 'muslim', 'must', 'mustafa', 'mustakbilcorn', 'mustakbilcorneroffici', 'mustaqim', 'musteduc', 'mustgood', 'musé', 'musées', 'mutat', 'mutual', 'mutualsecurity', 'mvc', 'mwm', 'myhcm', 'mykhailov', 'mysql', 'mystic', 'myth', 'myust', 'mâle', 'mère', 'mètres', 'mécaniqu', 'mécanique', 'mécatronique', 'médecin', 'médical', 'médicale', 'médicaux', 'médico', 'médiocr', 'mémoir', 'mérite', 'métallurgi', 'méthode', 'méthodes', 'méthodiqu', 'méthodolog', 'métier', 'mêm', 'nabil', 'nadabenchagraskallitidjani', 'nadia', 'nadorlaissez', 'nafay', 'nah', 'nahe', 'naheed', 'nahi', 'naib', 'naimbentaleb', 'najaf', 'najam', 'najat', 'nakhlah', 'namast', 'name', 'naqi', 'naqison', 'naqvi', 'narcissique', 'naseem', 'nasir', 'nasrapublicschool', 'nasysgroup', 'nation', 'national', 'nationality', 'nationalité', 'nationwid', 'nativ', 'natur', 'naukri', 'naval', 'navantia', 'nave', 'naveenagroupkhi', 'navig', 'nawanlab', 'nayab', 'nayyeralam', 'nazimabad', 'nazimabadkarachi', 'nazimbad', 'naîtra', 'nb', 'ncr', 'nd', 'near', 'nearbi', 'nearest', 'nebosh', 'necesit', 'necessari', 'necessary', 'necessity', 'need', 'needcoordin', 'needed', 'needi', 'needs', 'negoti', 'negotiableshar', 'neither', 'neoload', 'nestj', 'net', 'netcc', 'netdepart', 'netflix', 'netjob', 'netowrk', 'nettoyag', 'network', 'networking', 'networks', 'neural', 'neurotech', 'new', 'newchalleng', 'newfoundland', 'newli', 'news', 'newslett', 'nexron', 'nexronservic', 'next', 'nextbridg', 'nexu', 'nexuscorp', 'nfoods', 'ngfw', 'ngo', 'ngos', 'ngosintrest', 'nicebusi', 'nicola', 'nicvd', 'niger', 'nigeria', 'night', 'nightloc', 'nights', 'nihaan', 'nimrawaseem', 'niox', 'nisrin', 'nivaquin', 'niveau', 'niveaux', 'nlp', 'nlphashtag', 'nm', 'nms', 'no', 'noc', 'node', 'nodej', 'nodejs', 'nom', 'nombr', 'nomin', 'noms', 'noor', 'noorah', 'nooriabad', 'noorjehan', 'noorulhuda', 'nordisk', 'normal', 'north', 'northwest', 'norwegian', 'nosqlplu', 'notam', 'note', 'notebook', 'notepadthi', 'noth', 'notic', 'notifi', 'notion', 'notionif', 'notr', 'nou', 'nouasseur', 'nouqatisoufian', 'nourrit', 'nouveau', 'nouveaux', 'nouvel', 'nova', 'novalonpk', 'novancy', 'novaplast', 'novatex', 'novaxi', 'novaxys', 'novel', 'novo', 'noyé', 'npl', 'npmrecrut', 'nrecruitment', 'nse', 'nsm', 'nuestro', 'nuevo', 'nuir', 'num', 'numb', 'number', 'numbers', 'numéris', 'numéro', 'nurs', 'nurseri', 'nwdu', 'nxb', 'né', 'néanmoin', 'nécessair', 'nécessaires', 'nécessité', 'négatif', 'négociat', 'négocier', 'oasispackaging', 'oath', 'object', 'objectif', 'objectives', 'objet', 'oblig', 'obligatoir', 'obligatoire', 'obligatoireobjet', 'obligatoires', 'obligatoirevo', 'obligé', 'observ', 'obsess', 'obstacles', 'obtenir', 'obtenu', 'obtiendra', 'occas', 'occup', 'ocean', 'ocp', 'ocpgrouphashtag', 'ocytocin', 'od', 'odeon', 'odor', 'oeuvr', 'offer', 'offered', 'offering', 'offers', 'offic', 'office', 'officecandid', 'officer', 'officereduc', 'officerfor', 'officerhav', 'officerloc', 'officerno', 'officerpost', 'officerqualif', 'officersloc', 'officerw', 'officesaccept', 'officesalari', 'offici', 'officialsend', 'officiel', 'officielle', 'officiellehashtag', 'offintrest', 'offloc', 'offr', 'offrant', 'offrent', 'offresdemploi', 'offrir', 'offrirai', 'offriront', 'offrirunpani', 'ofppt', 'ofth', 'ohot', 'oil', 'oilfield', 'okara', 'okay', 'olczak', 'old', 'oldest', 'oldexperi', 'oman', 'omanw', 'ombr', 'ombudsman', 'on', 'onc', 'one', 'ongo', 'onli', 'onlin', 'online', 'onlycli', 'onlyemail', 'onlyindustri', 'onlyloc', 'onlysend', 'onnajaf', 'onno', 'ont', 'ontario', 'ontech', 'onvayarriv', 'oop', 'opd', 'open', 'opencourseware', 'opensourc', 'oper', 'operation', 'operations', 'operator', 'operatorexperi', 'operatorloc', 'operatorpost', 'opinion', 'opp', 'opportun', 'opportunities', 'opportunitiescar', 'opportunity', 'opportunité', 'opposit', 'oppress', 'oppsforproabacusel', 'oppsforprobusi', 'oppsforprohr', 'oppsforprolook', 'oppsforproposit', 'oppsforprositara', 'oppsforprourg', 'oppsforprow', 'oppurtun', 'opt', 'optic', 'optim', 'optimis', 'optimist', 'option', 'optiqu', 'opté', 'opérant', 'opérat', 'opérationnel', 'opéré', 'oq', 'oracl', 'oracle', 'oraclecryst', 'oral', 'orang', 'orangecordialement', 'orangi', 'ord', 'order', 'orderbook', 'orders', 'ordi', 'ordin', 'ordonn', 'ordr', 'oremail', 'org', 'orgainformatiquequalitecomptabilité', 'organ', 'organis', 'organisationsi', 'organisationtrè', 'organiserai', 'organism', 'organiz', 'organization', 'organizationrequir', 'orghashtag', 'orgpost', 'orhav', 'ori', 'orient', 'orientedfresh', 'orienté', 'origin', 'originaldevelop', 'orphelin', 'orshar', 'os', 'osez', 'oth', 'others', 'otsuka', 'ottawajob', 'oubli', 'oubliera', 'oubliez', 'ouest', 'oughzal', 'oui', 'oup', 'our', 'oussama', 'outbound', 'outdoor', 'outfitt', 'outfitters', 'outgo', 'outil', 'outillage', 'outlet', 'outlin', 'outlook', 'outperform', 'output', 'outr', 'outstand', 'ouvert', 'ouvertur', 'ouvr', 'ouvrier', 'ouvrir', 'ouvrira', 'ouvrièr', 'overal', 'overhaul', 'overse', 'oversea', 'overtim', 'owais', 'owner', 'ownership', 'oxford', 'oxrp', 'pa', 'pabx', 'pac', 'pace', 'pack', 'packag', 'package', 'packageloc', 'packagemal', 'packagemed', 'packagesmall', 'packaging', 'pad', 'pag', 'page', 'pager', 'paid', 'paie', 'paiement', 'paiera', 'pain', 'paint', 'pair', 'paisiblepsaum', 'paix', 'pak', 'pakbazaar', 'pakistan', 'pakistanarmi', 'pakistani', 'pakistanjob', 'pakistankarachi', 'pakistanplacement', 'pakistanposit', 'pakistanzindabad', 'palm', 'palmol', 'pana', 'panama', 'panda', 'pandem', 'pandemianavantia', 'pandemic', 'pandemicstay', 'pandémi', 'panel', 'panier', 'paniqu', 'pann', 'paper', 'paperwork', 'papost', 'para', 'paradigm', 'paradis', 'paragraph', 'parallel', 'paramet', 'paramètr', 'paramètres', 'paramétr', 'paramétrag', 'paraît', 'parc', 'parcel', 'parcour', 'pareil', 'parent', 'parfait', 'parfaitj', 'parfoi', 'pari', 'pariba', 'pariscommerci', 'parissi', 'park', 'parklanehospital', 'parler', 'parlez', 'parr', 'parsa', 'part', 'partag', 'partager', 'partagerai', 'partagerhashtag', 'partagez', 'partagé', 'partenair', 'partenariat', 'parti', 'particip', 'participez', 'participé', 'particl', 'particular', 'particularli', 'particuli', 'partiel', 'parties', 'partir', 'partli', 'partner', 'partnership', 'partout', 'parttim', 'party', 'parvenir', 'pasd', 'pass', 'passag', 'passager', 'passagèr', 'passent', 'passer', 'passez', 'passion', 'passionne', 'passionné', 'passon', 'passstay', 'password', 'past', 'pasteur', 'patienc', 'patient', 'patológica', 'patriarchi', 'patriarchyhashtag', 'patrol', 'patron', 'pattern', 'patterns', 'paus', 'pauvr', 'pay', 'payabl', 'payableloc', 'payer', 'payment', 'payments', 'payrol', 'payroll', 'pays', 'paysaf', 'payshashtag', 'payé', 'pc', 'pca', 'pdf', 'pdg', 'peac', 'peau', 'pech', 'pechs', 'pechscontact', 'pel', 'pendem', 'pens', 'pensant', 'pensent', 'penser', 'pensez', 'pension', 'penson', 'pensé', 'peon', 'peopl', 'people', 'peopleovereveryth', 'per', 'perdant', 'perdr', 'perdra', 'perdu', 'perez', 'perf', 'perfect', 'perfectionnez', 'perform', 'performance', 'perhap', 'period', 'perk', 'perman', 'permanent', 'permanentag', 'permanentloc', 'permanentsalari', 'permanentshar', 'permet', 'permett', 'permetton', 'permettr', 'permettra', 'permettrait', 'permi', 'permiss', 'permit', 'person', 'persona', 'personalbrandingblog', 'personaldevelop', 'personn', 'personnel', 'personnesage', 'persons', 'perspect', 'perspective', 'persu', 'persévéranc', 'pert', 'pertain', 'perturb', 'pervaiz', 'peshawar', 'pestana', 'petit', 'petroleum', 'petti', 'peupl', 'peur', 'pf', 'pfe', 'pfebonjour', 'pfebonn', 'ph', 'pham', 'pharm', 'pharma', 'pharmaceut', 'pharmaceutical', 'pharmaceuticals', 'pharmaci', 'pharmacist', 'pharmacistw', 'pharmarequir', 'pharmd', 'pharmpakistan', 'phase', 'phenomenon', 'philippina', 'phone', 'photo', 'photograph', 'photographi', 'photographsbefor', 'photoshop', 'photoshopmalesalari', 'php', 'physic', 'physician', 'physicians', 'physics', 'physiqu', 'phénomèn', 'phénoménal', 'pibt', 'pibtl', 'pic', 'pick', 'pickup', 'picsofficial', 'pid', 'piec', 'pill', 'pilot', 'pilotag', 'pilule', 'pincer', 'pipfa', 'pire', 'piscin', 'pist', 'pitch', 'pizza', 'pièc', 'pk', 'pkagar', 'pkappli', 'pkcc', 'pkfemal', 'pkhashtag', 'pkhr', 'pkkarachi', 'pkkindli', 'pklast', 'pkloc', 'pkment', 'pkpost', 'pkr', 'pkrachi', 'pkrequir', 'pkrockvil', 'pkr𝐉𝐨𝐛', 'pksalari', 'pkurg', 'pkwith', 'pl', 'place', 'placement', 'placeriez', 'plafond', 'plage', 'plaindr', 'plaira', 'plaisir', 'plait', 'plan', 'planeta', 'planif', 'planifi', 'planifiez', 'planning', 'plans', 'plant', 'plasmet', 'plastic', 'plastiqu', 'plate', 'plateform', 'platform', 'platforms', 'play', 'player', 'playgroup', 'plaza', 'plaît', 'plc', 'pleas', 'pleasant', 'pleasereadcar', 'pleaseshar', 'plexiglasspour', 'plot', 'plu', 'plusgood', 'plusieur', 'plusjob', 'plusl', 'plusloc', 'plusqualif', 'plustim', 'plutard', 'plz', 'pm', 'pmcontact', 'pmeduc', 'pmemail', 'pmex', 'pmfresh', 'pminterest', 'pmlocat', 'pmmonday', 'pmmust', 'pmqualif', 'pmrequir', 'pmsalari', 'pneumoni', 'po', 'podcast', 'poepl', 'point', 'pointag', 'pointeur', 'points', 'pois', 'polic', 'police', 'polici', 'policies', 'policycandid', 'policyinterest', 'polio', 'polit', 'politiqu', 'polym', 'polymer', 'polytechniqu', 'polyval', 'polyvalent', 'poor', 'pop', 'popul', 'por', 'porqu', 'porsch', 'porschecentre', 'port', 'portabl', 'portal', 'portals', 'portatil', 'portefeuil', 'porter', 'portes', 'porteur', 'portfolio', 'pose', 'posent', 'poser', 'posit', 'positif', 'position', 'positionn', 'positions', 'positionsloc', 'positionsno', 'positionssoftwar', 'positiveattitud', 'positiveattitude', 'positivepsycholog', 'positivevib', 'positivism', 'poss', 'possess', 'possibilité', 'possibl', 'possible', 'post', 'postant', 'poste', 'poster', 'postevo', 'postgr', 'postillon', 'postiv', 'posts', 'postscript', 'postsit', 'postsloc', 'postul', 'postulez', 'postulé', 'posté', 'potenti', 'potentiels', 'pouc', 'pour', 'pourra', 'pourrai', 'pourrait', 'pourriez', 'poursuit', 'pourtant', 'pourvoir', 'pourvu', 'pouvant', 'pouvez', 'pouvoir', 'pouvon', 'pouvons', 'power', 'powerbi', 'powerhous', 'powerpoint', 'powertosurpris', 'ppc', 'ppcgender', 'ppe', 'ppl', 'ppmc', 'pq', 'pr', 'practic', 'practice', 'practicerestaur', 'practices', 'pratiqu', 'pratique', 'pratiques', 'pratiquon', 'pray', 'prayer', 'prayeverday', 'prc', 'pre', 'precis', 'predict', 'predictor', 'prefer', 'preferable', 'preferedsend', 'preference', 'preferr', 'preferred', 'preferredjob', 'preferredminimum', 'premiotravel', 'premium', 'premiumfoodproducts', 'premièr', 'prendr', 'prendra', 'prenez', 'prenon', 'prepar', 'preparationinspectionleg', 'preparationmanag', 'prerequisit', 'pres', 'prescript', 'presenc', 'presence', 'present', 'presentationsresum', 'presid', 'presqu', 'press', 'pression', 'pressman', 'pressur', 'prestigi', 'preuv', 'prevent', 'previou', 'previous', 'pri', 'price', 'priceless', 'pride', 'prie', 'prier', 'primari', 'primarili', 'primeblessings', 'primehr', 'priment', 'primordial', 'prince', 'princip', 'principal', 'principl', 'principles', 'print', 'printer', 'printmaketrim', 'prion', 'prior', 'priorit', 'prioritair', 'priorité', 'prise', 'privat', 'privez', 'privileg', 'privé', 'prix', 'priya', 'prièr', 'priée', 'pro', 'proactiv', 'proactive', 'proactiveschoolingsystem', 'probabilité', 'probabl', 'probant', 'probationlast', 'problem', 'problèm', 'proce', 'procedur', 'procedures', 'procesamiento', 'process', 'processesexperi', 'processing', 'processor', 'processsend', 'processu', 'proch', 'prochain', 'procrastinateur', 'procur', 'procurement', 'procédur', 'procédures', 'procédé', 'produc', 'product', 'productif', 'productiveinquarantine', 'productmanag', 'products', 'productsrequir', 'produir', 'produit', 'prof', 'profess', 'professeur', 'profession', 'professionalloc', 'professionnel', 'professionnelle', 'profici', 'profil', 'profile', 'profileappli', 'profileminimum', 'profileskil', 'profit', 'profitabilité', 'profitez', 'profond', 'progma', 'program', 'programecosourc', 'programm', 'programmanagerhashtag', 'programme', 'programmer', 'programmé', 'programs', 'progress', 'progrè', 'project', 'projectcoordinatorhashtag', 'projections', 'projectmanagerhashtag', 'projects', 'projectsad', 'projectsdevelop', 'projet', 'projets', 'promis', 'promiscuité', 'promo', 'promot', 'promotion', 'prononcé', 'pronostiquait', 'proof', 'propag', 'proper', 'properly', 'properti', 'propo', 'propos', 'proposals', 'proposez', 'proposit', 'propositionnb', 'proposon', 'proposé', 'propr', 'propreté', 'prospect', 'prospecter', 'prospère', 'prospérer', 'protect', 'protectiond', 'protocol', 'prototyp', 'protèg', 'protéger', 'protégé', 'proud', 'proudofkhalil', 'proudtobelong', 'prouvera', 'prouvé', 'prove', 'proven', 'provid', 'provided', 'providedsend', 'provinc', 'proxi', 'proxémi', 'prudent', 'prè', 'pré', 'précair', 'précaution', 'précisant', 'précise', 'précisionobligehashtag', 'précédent', 'prédilect', 'prédit', 'préférenc', 'préféré', 'prénom', 'préoccup', 'prépar', 'préparat', 'préparent', 'préparer', 'préparé', 'préqualif', 'présent', 'présentat', 'présentation', 'présentent', 'présentiel', 'préserv', 'préserver', 'présice', 'président', 'prétendr', 'prévention', 'préventiv', 'prévision', 'prévoient', 'prévu', 'prêt', 'prête', 'ps', 'pso', 'psychiqu', 'psycholog', 'psychologi', 'psychologiepositivehashtag', 'ptit', 'pts', 'pu', 'publi', 'public', 'publication', 'publicli', 'publier', 'publiqu', 'publiquessecteur', 'publish', 'puesto', 'pui', 'puiss', 'puissanc', 'puissant', 'pull', 'puls', 'pump', 'punctu', 'punctual', 'punctualeduc', 'punjab', 'punjabgm', 'purchas', 'purpos', 'pursu', 'push', 'put', 'putti', 'pvt', 'pyjama', 'python', 'pâtisseri', 'père', 'pédagogiqu', 'périod', 'période', 'pôle', 'pública', 'qa', 'qabonjour', 'qaria', 'qasidloc', 'qasim', 'qasiminterest', 'qatar', 'qatari', 'qaulif', 'qc', 'qf', 'qfnetwork', 'qila', 'qlik', 'qliksens', 'qm', 'qq', 'quaid', 'quaidabad', 'qualif', 'qualifi', 'qualification', 'qualificationsundergradu', 'qualified', 'qualifiedexperi', 'qualifieur', 'qualifié', 'qualit', 'qualiti', 'quality', 'qualityassuranceanalysthashtag', 'qualityjob', 'qualitytim', 'qualité', 'qualitéhashtag', 'quand', 'quantifi', 'quantit', 'quantiti', 'quarantaine', 'quarantin', 'quarter', 'quarterly', 'quartier', 'quasiment', 'quaterli', 'quatr', 'quelaventurecommence', 'quell', 'quelqu', 'queri', 'queries', 'question', 'questions', 'quetta', 'quick', 'quickli', 'quickly', 'quit', 'quitter', 'quot', 'quota', 'quotas', 'quotat', 'quotation', 'quotidien', 'quotidienn', 'quran', 'qureshi', 'quries', 'québec', 'qvt', 'ra', 'raahim', 'raat', 'raaziq', 'rabaiss', 'rabat', 'rabatbonjour', 'rabta', 'race', 'rachid', 'rack', 'racont', 'radhouen', 'radicalis', 'radio', 'radiologist', 'radiu', 'rafiqu', 'rafiqui', 'raftech', 'rageur', 'ragheb', 'raha', 'rahat', 'rahe', 'rahimyar', 'rais', 'raison', 'raisonn', 'raisonnables', 'ralentir', 'rameza', 'ran', 'random', 'raney', 'rang', 'ranger', 'rant', 'raoult', 'rapid', 'rapidli', 'rapier', 'rappel', 'rappellera', 'rapport', 'rapproch', 'rare', 'rashid', 'rashidregion', 'rasnco', 'rassur', 'rather', 'ratio', 'ration', 'rauf', 'ravi', 'raw', 'rawalpindi', 'rawalpindicontact', 'rawalpindiemail', 'rawalpindigend', 'rawand', 'ray', 'raza', 'razi', 'razor', 'rca', 'rccp', 'rd', 'rdv', 'reach', 'react', 'reactcompét', 'reaction', 'reactj', 'reactjs', 'reactnativesr', 'read', 'reader', 'readershar', 'readi', 'real', 'realest', 'realiti', 'realiz', 'realli', 'realtim', 'reason', 'reasons', 'receipt', 'receipts', 'receiv', 'recent', 'recept', 'receptionist', 'receptionistal', 'receptionistloc', 'receptionistpost', 'receptionists', 'recett', 'recetteprofil', 'recevoir', 'recevrai', 'recharg', 'recherch', 'recherche', 'recherchez', 'recherchon', 'recherché', 'recherchébac', 'reciev', 'reciv', 'recogn', 'recommand', 'recommend', 'recommendations', 'reconcel', 'reconcil', 'reconcili', 'reconnaiss', 'reconnaissant', 'reconnait', 'reconnu', 'reconstruct', 'record', 'records', 'recoveri', 'recovery', 'recruit', 'recruiterjob', 'recruiters', 'recruiterslif', 'recruitingno', 'recruitment', 'recruitmentcoordin', 'recruitmenteeap', 'recruitmenthashtag', 'recruitmentkhi', 'recruitmentprocess', 'recruitmentservic', 'recruitmentspecialist', 'recruitmentworld', 'recrut', 'recrutement', 'recrutementbien', 'recrutementj', 'recrutementn', 'recrutementssuivi', 'recrutementtunisi', 'recruteur', 'recruteurs', 'recruteurun', 'recrutez', 'recruton', 'recruté', 'recréer', 'rectif', 'recueillir', 'recul', 'recurso', 'recyclagehashtag', 'red', 'reda', 'redescendr', 'redor', 'redtichashtag', 'reduc', 'reduct', 'reduir', 'redémarr', 'refer', 'refin', 'refineryloc', 'refusé', 'regard', 'regarda', 'regardez', 'regardless', 'regardsnaqeebullahdivision', 'region', 'regist', 'registr', 'regress', 'regroup', 'regul', 'regular', 'regularli', 'regulations', 'regulatori', 'rehman', 'rehmandeputi', 'reinforc', 'reject', 'rejeté', 'rejoign', 'rejoignez', 'rejoindr', 'rekrut', 'rekrutacademi', 'rekrutacademy', 'rekrutacademyhashtag', 'rekruteur', 'rel', 'relanc', 'relat', 'related', 'relationnel', 'relationship', 'relationships', 'relativis', 'relax', 'releas', 'relev', 'relevant', 'relevé', 'reli', 'reliabl', 'relief', 'religion', 'relié', 'reloc', 'relèvera', 'remarqu', 'rememb', 'remerci', 'remettr', 'remettra', 'reminder', 'remis', 'remot', 'remote', 'remotework', 'remov', 'remplac', 'remplir', 'rempliss', 'remuner', 'remédier', 'ren', 'renault', 'rencontr', 'rencontré', 'rend', 'rendon', 'rendr', 'rendrai', 'rendronthashtag', 'rendu', 'renew', 'renforc', 'renonc', 'renouvel', 'renouvelable', 'renouvelableobjet', 'renouvelablesur', 'renown', 'renseign', 'rentrer', 'renvoy', 'reonenergy', 'rep', 'repa', 'repartir', 'repeat', 'repetit', 'replac', 'repli', 'replic', 'replying', 'repo', 'repons', 'report', 'reporting', 'reportinggest', 'reportingn', 'reportsimprov', 'repositionn', 'repositori', 'reprend', 'reprendr', 'repres', 'representativefast', 'representativeloc', 'representativepost', 'representativequalif', 'représent', 'reput', 'reputation', 'req', 'request', 'requests', 'requir', 'required', 'requiredag', 'requiredfor', 'requiredloc', 'requiredpharma', 'requiredvideo', 'requirementb', 'requirements', 'requis', 'requisit', 'research', 'researchg', 'reseauxsociaux', 'reserv', 'resid', 'resident', 'residenti', 'resign', 'resili', 'resist', 'resmu', 'resolut', 'resolv', 'resort', 'resourc', 'resourceat', 'resourcedge', 'resourcequalif', 'resources', 'respect', 'respectez', 'respectonslanatur', 'respectonslanaturehashtag', 'respecté', 'respirateur', 'respirez', 'respon', 'respond', 'respons', 'responsabilité', 'responsable', 'responsablerecrut', 'responsablesbmci', 'responsibilities', 'responsibilitiesth', 'ressembl', 'ressenti', 'ressourc', 'ressources', 'ressourceshumain', 'rest', 'restaur', 'restecheztoi', 'restent', 'rester', 'restez', 'restezchezv', 'restezchezvouspassionné', 'restfulexperi', 'reston', 'restrict', 'restructur', 'restur', 'result', 'results', 'resum', 'resume', 'resumearifhamayun', 'resumonk', 'resumup', 'retail', 'retailers', 'retain', 'retard', 'retardé', 'retd', 'retir', 'retour', 'retrain', 'retraite', 'retrouv', 'retrouvail', 'retrouvez', 'retrouvon', 'return', 'returns', 'revenait', 'revenu', 'rever', 'reversé', 'revien', 'review', 'revolution', 'revu', 'reward', 'reçoit', 'reçoiv', 'reçu', 'rg', 'rh', 'rhode', 'rhsur', 'ri', 'riaz', 'rib', 'rice', 'rich', 'rida', 'ridaoui', 'ride', 'rider', 'riderjob', 'riderssalari', 'right', 'rigid', 'rigoureux', 'rigueur', 'rire', 'rise', 'risk', 'risks', 'risqu', 'risquez', 'rituel', 'rival', 'river', 'rizvi', 'rm', 'rmgmedia', 'ro', 'road', 'roadinterest', 'roadmap', 'roadster', 'robot', 'rockvil', 'roi', 'rojhan', 'rol', 'role', 'rolegend', 'roleinterest', 'roll', 'room', 'rooms', 'ropstam', 'roshan', 'rotat', 'roug', 'rough', 'rout', 'router', 'routin', 'row', 'royal', 'royalcyb', 'royalcyber', 'royaum', 'rozee', 'rpa', 'rpgcc', 'rrh', 'rs', 'rsc', 'rsk', 'rsm', 'rsr', 'rth', 'rue', 'ruell', 'ruiner', 'rule', 'rumors', 'run', 'rupeescommiss', 'rupesscontact', 'ruptur', 'rural', 'ruwwad', 'rv', 'rwanda', 'rwp', 'rythm', 'règle', 'règlement', 'règlements', 'réactif', 'réactivité', 'réagi', 'réalis', 'réalisations', 'réalisé', 'réalité', 'récapitulatif', 'réception', 'récession', 'réchauff', 'récompens', 'rédiger', 'rédigez', 'réduction', 'réel', 'réell', 'réellement', 'réels', 'réf', 'réflex', 'réflexion', 'réfléchi', 'réfléchir', 'réfléchit', 'référenc', 'référent', 'région', 'réglementair', 'rémunéré', 'rémunérélieu', 'réorient', 'réparat', 'répond', 'répondr', 'répondu', 'répons', 'républiqu', 'réquisitionné', 'réseau', 'réseaux', 'réseauxbonjour', 'réserv', 'résidant', 'résilienc', 'résistanc', 'résolu', 'résolut', 'résoudr', 'résultat', 'résultats', 'résumer', 'résumé', 'réuni', 'réunion', 'réunir', 'réussi', 'réussir', 'réussiss', 'réussit', 'réveiller', 'révèle', 'révélée', 'rêve', 'rêvez', 'rôle', 'saad', 'saba', 'sabaq', 'sachez', 'sacrific', 'saddar', 'sadiq', 'sae', 'saf', 'safa', 'safe', 'safehashtag', 'safeti', 'safinaz', 'sage', 'saggay', 'sahaabiri', 'sahar', 'sahbi', 'sahiw', 'sahraoui', 'sai', 'said', 'saidghayor', 'saifee', 'saifeehospital', 'sail', 'saima', 'saimapac', 'sain', 'saint', 'saira', 'saisi', 'saisir', 'sait', 'sajid', 'sak', 'sakgmail', 'sakina', 'saktay', 'sal', 'salair', 'salalah', 'salari', 'salarial', 'salarié', 'salary', 'salarybonus', 'sale', 'sales', 'salesag', 'salescan', 'salescontain', 'salesforc', 'salesloc', 'salesman', 'salesmen', 'salesminimum', 'salesqualif', 'salesresid', 'salessalari', 'salim', 'salon', 'salonloc', 'salsoft', 'salto', 'saludo', 'salé', 'sam', 'samad', 'saman', 'samedi', 'sameer', 'sami', 'samiahm', 'sampl', 'samu', 'san', 'sana', 'sanaejaz', 'sanasafinaz', 'sanctionné', 'sanitair', 'sanitari', 'sanofi', 'santé', 'sap', 'saplingsschoolingsystem', 'sapt', 'saqibah', 'sara', 'sarah', 'sarghodha', 'sargodhaedu', 'sarim', 'sarwar', 'sas', 'saskatchewan', 'sat', 'satck', 'sath', 'satisfact', 'satisfaction', 'satisfair', 'satisfi', 'sattim', 'saturday', 'sauc', 'saura', 'sauvag', 'sauver', 'sauveront', 'sauveznotrepayshashtag', 'sauvé', 'sav', 'save', 'savebusinesscontinu', 'savent', 'saveourcolleagueshealth', 'savez', 'saviez', 'savoir', 'savour', 'savvi', 'say', 'sb', 'sbaiti', 'sbf', 'sbp', 'sbtjapan', 'sc', 'scan', 'scandal', 'scanner', 'sccm', 'sceinc', 'scenarii', 'scenario', 'schedul', 'scheme', 'school', 'schoola', 'schoolcmf', 'schoold', 'schoolexperienc', 'scienc', 'science', 'scienceexperi', 'sciences', 'scientif', 'scientifiqu', 'scientifiques', 'scientist', 'scm', 'scn', 'scolair', 'scolarité', 'scom', 'scope', 'score', 'scotia', 'scott', 'scratch', 'screen', 'scrum', 'scrummast', 'scénario', 'sd', 'sdf', 'search', 'season', 'seat', 'second', 'secondair', 'secondari', 'secondary', 'secondarycandid', 'secp', 'secretari', 'secretaryrequir', 'secrétair', 'secteur', 'secteurs', 'section', 'sectioncandid', 'sectioninterest', 'sector', 'secur', 'security', 'seek', 'seem', 'segment', 'sehkar', 'sehrjamil', 'sein', 'select', 'selenium', 'self', 'selfconfid', 'selfdevelopp', 'selfish', 'selfless', 'sell', 'seller', 'selling', 'sem', 'semain', 'semainehashtag', 'semblent', 'sembler', 'semicolon', 'sen', 'send', 'seneg', 'sengagehashtag', 'senior', 'sens', 'sensat', 'sensibl', 'sensibles', 'sensiblesc', 'sent', 'sentez', 'sentiez', 'sentiment', 'sentir', 'sentirez', 'seo', 'septembr', 'sereinement', 'seriou', 'sernior', 'serrer', 'sert', 'serv', 'server', 'serverexperi', 'servers', 'serveursprofil', 'servic', 'serviceag', 'serviceguard', 'services', 'servicesappli', 'servicesplac', 'servicesqualité', 'servir', 'set', 'settl', 'setup', 'seuil', 'seul', 'seulement', 'sever', 'sexgeheimniss', 'sexperi', 'sextipp', 'sf', 'sfouli', 'sh', 'shaam', 'shadi', 'shafiq', 'shah', 'shahe', 'shaheed', 'shaheen', 'shahkar', 'shahnaz', 'shahra', 'shahrah', 'shahzad', 'shaikh', 'shaikupura', 'shajeel', 'shakeel', 'shakil', 'shall', 'sham', 'shamshad', 'shamshadlakhan', 'shangrila', 'shape', 'shar', 'sharah', 'share', 'shareon', 'shares', 'sharethispost', 'sharif', 'sharing', 'sharingexperi', 'sharingidea', 'sharingknowledg', 'sheet', 'sheheryarzaheer', 'sheikh', 'sheikhupura', 'shell', 'shellmanagementtraineeprogram', 'shelters', 'shershahcandid', 'shezil', 'shift', 'shiftoffic', 'shifts', 'shiftspeci', 'shine', 'ship', 'shiraz', 'shoe', 'shoot', 'shop', 'short', 'shortlist', 'shout', 'show', 'showroom', 'showroomeduc', 'shows', 'shrm', 'shuja', 'shuru', 'shw', 'si', 'sialkot', 'sick', 'sidat', 'sidathyder', 'siddiqson', 'siddiqsonsgroup', 'siddiqui', 'side', 'sidi', 'sidraabrarkhan', 'sidrasi', 'sie', 'sight', 'signif', 'signifi', 'signific', 'signé', 'silai', 'silkbank', 'sim', 'similair', 'similaire', 'similar', 'simpl', 'simple', 'simplement', 'simplifi', 'simplifié', 'simul', 'simulink', 'simultan', 'sinc', 'sincer', 'sincèr', 'sindh', 'sindhi', 'singl', 'sinistr', 'sino', 'sinosindh', 'siraat', 'sister', 'sit', 'sitara', 'site', 'sites', 'situ', 'situat', 'situations', 'size', 'sièg', 'ski', 'skikda', 'skil', 'skill', 'skillexpert', 'skillpresent', 'skills', 'skillsag', 'skillsat', 'skillscandid', 'skillscompani', 'skillsconfid', 'skillsgood', 'skillsinterest', 'skillsmeet', 'skillsmust', 'skillsth', 'skillston', 'skillsw', 'sklearn', 'skyent', 'skylark', 'sl', 'sla', 'slack', 'slip', 'slroadster', 'sm', 'small', 'smart', 'smartest', 'smartmov', 'smartphon', 'smartrequir', 'smch', 'smellsmagnet', 'smooth', 'snaye', 'snayehashtag', 'snd', 'snippet', 'snr', 'soa', 'soap', 'social', 'sociales', 'socialmedia', 'socialpsycholog', 'sociaux', 'societ', 'societi', 'socio', 'société', 'socl', 'sofrecom', 'soft', 'softech', 'softnationtechnologies', 'softwar', 'software', 'softwareengin', 'sohaibhasan', 'sohail', 'soignant', 'soigner', 'soin', 'soir', 'soiré', 'soirée', 'solalor', 'solar', 'sold', 'soldier', 'solicit', 'solid', 'solidair', 'solidaire', 'solidaires', 'solidar', 'solidaridad', 'solidarité', 'solidaritéhashtag', 'solitari', 'sollicit', 'solut', 'solution', 'solutions', 'solv', 'someon', 'someth', 'sometim', 'somm', 'soneribank', 'sonic', 'sont', 'sonu', 'sooner', 'soonfb', 'soorti', 'soorty', 'sop', 'sort', 'sorti', 'sortir', 'sospakistan', 'sotisnap', 'sou', 'soudé', 'souhait', 'souhaitable', 'souhaitablemerci', 'souhaitent', 'souhaitez', 'souhaiton', 'souhaité', 'soukaina', 'soukaïna', 'soul', 'soulag', 'soumissions', 'sound', 'sourc', 'sourcesdo', 'sourir', 'souss', 'soutenez', 'soutenir', 'soutenonsnotrepay', 'south', 'soutien', 'souvenir', 'souvent', 'sow', 'soyon', 'spa', 'space', 'span', 'spare', 'spark', 'sparkl', 'speak', 'special', 'specialist', 'specialistdepart', 'specif', 'specifi', 'specifications', 'spectrum', 'speechless', 'speed', 'spell', 'spend', 'spin', 'spo', 'spoken', 'sponsor', 'sport', 'spr', 'spread', 'spring', 'springboot', 'spécial', 'spécialement', 'spécialis', 'spécialist', 'spécialisé', 'spécialité', 'spécifiqu', 'spécifié', 'spéculat', 'sqa', 'sql', 'squar', 'sr', 'sraghna', 'sraghnacontrat', 'sras', 'srf', 'ssc', 'sscbrands', 'sspo', 'st', 'stabilité', 'stabl', 'stack', 'stacksenior', 'stade', 'staf', 'staff', 'staffdata', 'staffeduc', 'staffonert', 'staffront', 'stag', 'stage', 'stagelaboratoirequalitén', 'stagiair', 'stagiaires', 'stagiar', 'stakehold', 'stall', 'stamp', 'stand', 'standard', 'standards', 'standardsstorag', 'stanford', 'stanisla', 'staph', 'star', 'starif', 'start', 'startexindustry', 'startup', 'startupday', 'stataudit', 'state', 'statement', 'statements', 'station', 'stationari', 'statist', 'statistics', 'statistiques', 'statu', 'statut', 'statutori', 'stay', 'stayathom', 'stayathomehashtag', 'stayhom', 'stayhomehashtag', 'stayhomestaysaf', 'stayposit', 'staysaf', 'stdi', 'stealth', 'steam', 'steel', 'step', 'stephen', 'steril', 'stewarding', 'stil', 'stile', 'still', 'stipend', 'stipendloc', 'stitch', 'stock', 'stopcoronaviru', 'storag', 'store', 'storegend', 'storepleas', 'storetim', 'stori', 'storm', 'storyboard', 'storytel', 'strang', 'strateg', 'strategi', 'strategies', 'strategy', 'stratégi', 'stratégie', 'stratégiqu', 'strauss', 'street', 'strength', 'strengthen', 'stress', 'stressé', 'strict', 'strictli', 'stringent', 'stripe', 'strong', 'strongertogeth', 'structur', 'structuré', 'structurée', 'struggl', 'stuck', 'student', 'students', 'studentsdesir', 'studi', 'studio', 'stuff', 'su', 'sub', 'subah', 'subcontractor', 'subha', 'subir', 'subit', 'subject', 'submergé', 'submiss', 'submit', 'subscrib', 'subvenir', 'success', 'successful', 'succè', 'suck', 'sucsel', 'sucselhrm', 'sucselsucsel', 'sueno', 'suenosinthr', 'suffira', 'suffirait', 'suffit', 'suffoc', 'sugar', 'sugargranul', 'suggest', 'sui', 'suit', 'suitabl', 'suite', 'suivants', 'suivent', 'suivez', 'suivi', 'suivr', 'sujet', 'sukaina', 'sukkur', 'suleman', 'sultan', 'summar', 'summari', 'summer', 'summeri', 'summon', 'sun', 'sundar', 'sunday', 'sunnah', 'sunridgefoods', 'sunset', 'sup', 'super', 'superb', 'superett', 'superhighway', 'superior', 'supermarché', 'supervis', 'superviseur', 'supervision', 'supervisor', 'supervisorexperi', 'supervisorpost', 'suppli', 'supplier', 'suppliers', 'support', 'supportinformatiqu', 'suppos', 'suppress', 'supremaci', 'supérieur', 'suraiya', 'sure', 'surfchem', 'surfing', 'surg', 'suri', 'surmawala', 'surmont', 'surpass', 'surpasseron', 'surplu', 'surpris', 'surround', 'surréalist', 'surveil', 'surveillez', 'survey', 'survi', 'surviv', 'suscit', 'suspendu', 'sustain', 'svn', 'svp', 'sweetheart', 'switch', 'switchboard', 'swtich', 'sy', 'sybrid', 'sybridts', 'syeda', 'syllabu', 'symfoni', 'symfonyn', 'sympathi', 'sympathiqu', 'symphoni', 'symphonyresponsabilité', 'symptom', 'symptoms', 'syndiqué', 'synergi', 'synonym', 'synthès', 'synthétiqu', 'sysadmin', 'system', 'systems', 'systemsanalysthashtag', 'systèm', 'système', 'systèmesconnaiss', 'szabist', 'szaram', 'sécurisé', 'sécurité', 'sécuritémerci', 'sécuritésur', 'séjour', 'sélection', 'séminair', 'séminaires', 'sénior', 'sépare', 'série', 'sérieusement', 'sérieux', 'sûreté', 'tableau', 'tableaux', 'table𝐑𝐞𝐪𝐮𝐢𝐫𝐞𝐦𝐞𝐧𝐭𝐬', 'tafveez', 'taguez', 'tahir', 'tai', 'taill', 'taj', 'tak', 'taka', 'takbir', 'take', 'taken', 'talal', 'talent', 'talentaquisit', 'talenthue', 'talents', 'talentspartners', 'talentspher', 'talentsphere', 'talk', 'talleux', 'talli', 'tandoori', 'tang', 'tanger', 'tanya', 'tanzanit', 'taq', 'taqorg', 'tard', 'tardar', 'tardent', 'target', 'targets', 'targuer', 'tarif', 'tariq', 'tarjeeh', 'task', 'taskrequir', 'tasks', 'tat', 'tauhe', 'tawakk', 'tawakkalallah', 'tax', 'taxat', 'taxesth', 'tayyiba', 'tbc', 'tcf', 'tcg', 'tea', 'teach', 'teacher', 'teacheridentifi', 'teacherrequir', 'teacherssend', 'team', 'teamwork', 'tech', 'techlead', 'techn', 'technic', 'technical', 'technicalrecruit', 'technician', 'technicien', 'technico', 'techniqu', 'technique', 'techniquedan', 'techniques', 'technisoftconsultancy', 'techno', 'technoc', 'technolog', 'technologi', 'technologies', 'technologiqu', 'technologyhashtag', 'technologyloc', 'techseekerz', 'techseekerzjob', 'tecnico', 'ted', 'teena', 'tele', 'telecom', 'telecomconnaiss', 'telecommunication', 'telefono', 'telegram', 'telemark', 'telephon', 'telesal', 'teletravail', 'teletravailhashtag', 'tell', 'temp', 'temporari', 'temps', 'tenai', 'tend', 'tendanc', 'tenga', 'tenir', 'tenni', 'tenon', 'tensorflow', 'tent', 'tentait', 'tenter', 'tenté', 'tenu', 'teradata', 'teradatatptbteqmloadexportshel', 'term', 'termin', 'terminal', 'terminé', 'terr', 'terrain', 'terrassea', 'terre', 'terri', 'terribl', 'territoir', 'territoire', 'territori', 'territory', 'tersea', 'test', 'tester', 'testeur', 'testeurs', 'testing', 'testingtim', 'tests', 'testé', 'tetouan', 'text', 'textil', 'textile', 'textileqhsesuppli', 'th', 'thalassemia', 'thami', 'thamikabbajj', 'thank', 'thanks', 'thankyou', 'tharparkar', 'theacademy', 'thebestisyettocomehashtag', 'thebrandconsultants', 'theeducatorssharifabad', 'theexcellenceacademy', 'thegamestormstudios', 'thehrinsight', 'thehrmsquad', 'theme', 'themselv', 'theraftech', 'theraphist', 'thermiqu', 'theunitedinsurance', 'thevantageschool', 'thewarehouse', 'thi', 'thier', 'thin', 'thing', 'thinhkhuman', 'think', 'thinker', 'third', 'thnikfor', 'thoroughli', 'thoroughlygood', 'thos', 'thought', 'thousand', 'threats', 'three', 'thrive', 'throughout', 'thw', 'théoriqu', 'théorique', 'ti', 'tidy', 'tie', 'tiendrai', 'tier', 'tierc', 'tight', 'tih', 'tiki', 'tile', 'till', 'tim', 'time', 'timehttp', 'timejob', 'timelin', 'timelines', 'timeloc', 'timenot', 'timequalif', 'timerequir', 'times', 'timesalari', 'timescales', 'timeskil', 'timetochang', 'timeweekli', 'timey', 'timid', 'timing', 'timings', 'timingsprefer', 'tip', 'tipu', 'tirer', 'tite', 'titl', 'titr', 'tittl', 'titulair', 'tjm', 'tkl', 'tma', 'tmalgré', 'to', 'tocustom', 'today', 'todo', 'togeth', 'together', 'tolead', 'tomboy', 'tomorrow', 'tomorrowhashtag', 'tonnerr', 'tonsoman', 'toobaasi', 'tool', 'toolbox', 'toolkit', 'tools', 'top', 'topic', 'tord', 'toronto', 'torontojob', 'torontotechjob', 'tortur', 'toscan', 'total', 'tou', 'touanifatima', 'touch', 'touchantcourag', 'tough', 'toughest', 'toujour', 'tour', 'tourism', 'tous', 'touseef', 'tousj', 'tousopportunité', 'touspouvez', 'toutefoi', 'toutsachez', 'toux', 'touzanimehdi', 'tow', 'toward', 'tower', 'towerinterest', 'town', 'toxiqu', 'toxique', 'toyota', 'tpe', 'tpi', 'tpl', 'tplcorp', 'tr', 'trabajando', 'trabajar', 'trac', 'trace', 'track', 'trade', 'train', 'traine', 'trainee', 'traineesalari', 'traineeship', 'trait', 'traitement', 'traitementselabor', 'traiter', 'tran', 'transact', 'transactions', 'transfer', 'transform', 'transit', 'transkarachi', 'translat', 'transmettr', 'transmis', 'transmiss', 'transport', 'transworld', 'travail', 'travailleur', 'travaillez', 'travaillon', 'travaux', 'travauxbonn', 'travauxgéni', 'travauxprofil', 'travel', 'traver', 'travers', 'tre', 'treat', 'treatment', 'tree', 'treet', 'trello', 'tremend', 'trend', 'trends', 'trendsfost', 'trexpert', 'trg', 'tri', 'trials', 'trick', 'tristess', 'triumph', 'troi', 'troisièm', 'trompez', 'trompé', 'troubl', 'troubleshoot', 'troubleshooting', 'troublé', 'trouv', 'trouvent', 'trouver', 'trouverez', 'trouvez', 'trouvon', 'trouvé', 'true', 'truesight', 'trust', 'trysomethingnew', 'trè', 'trésoreri', 'trésorerie', 'trésorier', 'tune', 'tunisi', 'tunisia', 'tunisiakairouan', 'tunisien', 'turn', 'turnkey', 'turno', 'tutionhashtag', 'tutor', 'tv', 'twitter', 'two', 'twoexperi', 'txj', 'tyme', 'typ', 'type', 'typescript', 'typographi', 'tzpib', 'tâche', 'tél', 'téléchargez', 'télécom', 'télécommun', 'téléconseil', 'téléconseillermerci', 'téléconseillerspour', 'téléphone', 'téléphoni', 'téléphoniqu', 'téléphoniques', 'télétravail', 'télévisé', 'témara', 'têtu', 'tôt', 'uacc', 'uae', 'ubl', 'ublfunds', 'ubuntupour', 'ubuntuprofil', 'ucm', 'uddoproduct', 'udemi', 'udemy', 'ufon', 'ui', 'uic', 'uk', 'ukhashtag', 'ukloc', 'ukpost', 'ultim', 'umair', 'umerfarooqi', 'umh', 'uml', 'ump', 'un', 'unbounc', 'uncertainti', 'uncoupdepoucenefaitpasdemal', 'und', 'undergradu', 'understand', 'undoubtedli', 'undress', 'unemploy', 'uneseulepersonn', 'uni', 'unicorn', 'unifi', 'unifie', 'uniform', 'uninterrupt', 'union', 'uniqu', 'unit', 'unitaires', 'uniti', 'unitsinterest', 'unité', 'univers', 'universel', 'universitair', 'universities', 'university', 'université', 'unix', 'unlist', 'unn', 'unpost', 'unpreced', 'unprofession', 'unusu', 'unxilead', 'upd', 'updat', 'updated', 'updatedresum', 'upgrad', 'upl', 'uplift', 'upon', 'upto', 'ur', 'urban', 'urdu', 'urduday', 'urg', 'urgem', 'urgenc', 'urgent', 'urgenton', 'url', 'us', 'usa', 'usag', 'usama', 'use', 'user', 'users', 'usin', 'usman', 'usmania', 'usmanriazqazi', 'util', 'utilis', 'utilisateur', 'utilisateurs', 'utilison', 'utilisé', 'utilitiesrequir', 'utilité', 'uvel', 'ux', 'uzair', 'vac', 'vacanc', 'vacancies', 'vacancy', 'vacant', 'vacantposit', 'vacantproject', 'vai', 'valaient', 'valeur', 'valez', 'valid', 'validité', 'valika', 'vallé', 'valoir', 'valorisé', 'valu', 'value', 'van', 'vancouv', 'vancouverjob', 'variat', 'varieti', 'variou', 'vat', 'vaut', 'vb', 'vba', 'vbaimpress', 'vecteur', 'vee', 'veill', 'veillent', 'veiller', 'velig', 'vend', 'vendez', 'vendi', 'vendor', 'vendr', 'vendredi', 'venic', 'venir', 'vent', 'ventes', 'ventr', 'ventur', 'ventured', 'venturedive', 'venu', 'ver', 'verbal', 'verbaleduc', 'veri', 'verif', 'verifi', 'vermeil', 'versatil', 'version', 'vert', 'vertic', 'vet', 'vetting', 'veuillez', 'veulent', 'veut', 'veux', 'vezyon', 'vi', 'vice', 'vicinity', 'victim', 'victoir', 'victorieux', 'video', 'vider', 'vidizmo', 'vidéo', 'vie', 'viechangez', 'vieill', 'vien', 'viennent', 'vient', 'view', 'vill', 'villa', 'villesur', 'violent', 'virani', 'virement', 'virtual', 'virtuel', 'virtuelle', 'viru', 'virus', 'virushashtag', 'visa', 'vise', 'visez', 'visibl', 'visioconfér', 'visioconférences', 'vision', 'visionari', 'visit', 'visitor', 'visièr', 'vission', 'visual', 'visualcv', 'visualis', 'visualization', 'visualizations', 'visé', 'vita', 'vital', 'vite', 'vivant', 'vivement', 'vivent', 'vivon', 'vivr', 'vivre', 'vlookup', 'vmart', 'vminteractive', 'vmware', 'vo', 'voc', 'voic', 'voie', 'voir', 'voisin', 'voitur', 'volonté', 'volum', 'voluntarios', 'votr', 'voté', 'vou', 'voucher', 'voudrai', 'voulai', 'voulait', 'voulant', 'voulez', 'vouloir', 'voyag', 'voyages', 'vpn', 'vrai', 'vraiment', 'vs', 'vue', 'vuej', 'vulner', 'vulnérabilité', 'vulnérabl', 'vécu', 'véhicul', 'vénétie', 'vérifié', 'vérité', 'vœu', 'wa', 'wafaa', 'wafaassur', 'wage', 'wah', 'wahan', 'wait', 'waiter', 'waiv', 'wale', 'waleed', 'walk', 'wan', 'want', 'wanted', 'wapda', 'waqa', 'waqar', 'waqas', 'ware', 'wareh', 'warehous', 'warmli', 'wash', 'washingtonhashtag', 'wasim', 'wast', 'wastag', 'waste', 'wat', 'watch', 'water', 'waterpump', 'watson', 'wavetec', 'way', 'waysi', 'waytoreact', 'wcpuhashtag', 'we', 'weak', 'weakest', 'wearehiringn', 'wearekian', 'wearewebhelp', 'web', 'webdosolut', 'webhelp', 'webhelpagadir', 'webhelpbuild', 'webhelpfamily', 'webhelpmorocco', 'webhelpmuchlov', 'webhelpproudofy', 'webhelpspirit', 'webhelptousuni', 'webhelpworldwid', 'webhepmaroc', 'webhook', 'webinar', 'webmaster', 'weboc', 'webservic', 'websit', 'website', 'websitecollabor', 'webtrend', 'wednesday', 'weeder', 'week', 'weekend', 'weekli', 'weeks', 'weekseduc', 'welcom', 'welcome', 'welcomehashtag', 'welcomespleas', 'welfar', 'well', 'wellah', 'wephelp', 'western', 'wewanttraffic', 'wglrtlساهم', 'whatev', 'whatinspiresm', 'whatsapp', 'wheat', 'whether', 'whi', 'white', 'whitesmel', 'whoev', 'whoever', 'whole', 'wholesal', 'whose', 'whtsapp', 'whyi', 'wide', 'widmarck', 'wife', 'wifi', 'willincreas', 'win', 'window', 'windows', 'wing', 'wisdom', 'wise', 'wish', 'wit', 'withhold', 'within', 'withminimum', 'without', 'wiztech', 'wiztechian', 'wlan', 'wo', 'woh', 'woman', 'women', 'womensday', 'wonder', 'word', 'wordpress', 'work', 'worker', 'workflow', 'workforc', 'worklif', 'worklifebal', 'workout', 'workplac', 'works', 'workshop', 'workstat', 'world', 'worldwaterday', 'worldwid', 'worldwide', 'wors', 'worst', 'worth', 'worthi', 'would', 'woven', 'wp', 'wpbakkeri', 'wpfexperi', 'wrap', 'write', 'writer', 'writing', 'writs', 'written', 'wrong', 'wuhan', 'www', 'wxplttim', 'xarasoft', 'xavki', 'xgboost', 'xhvfehashtag', 'xiq', 'xp', 'xpertize', 'xpertizeafrica', 'xpertizienn', 'yahoo', 'yandex', 'yaqoob', 'yasser', 'yawar', 'ye', 'yeah', 'year', 'yeareduc', 'yeargood', 'yearinterest', 'yearjob', 'yearli', 'yearloc', 'yearposit', 'years', 'yearsaddit', 'yearsalari', 'yearsattract', 'yearsbas', 'yearsboth', 'yearscomput', 'yearseduc', 'yearsemail', 'yearsfemal', 'yearsif', 'yearsincumb', 'yearsinterest', 'yearsjob', 'yearsloc', 'yearsrelev', 'yearsrequir', 'yearsresid', 'yearssalari', 'yearsshift', 'yearsshould', 'yearsskil', 'yearssubmit', 'yearstim', 'yesexperi', 'yest', 'yesterday', 'yet', 'yeux', 'ykk', 'ymail', 'yoga', 'yogi', 'yoshua', 'you', 'young', 'youngsfood', 'yourprofil', 'yourselv', 'youssef', 'yousuf', 'youth', 'youthopportun', 'youtub', 'yr', 'yrsfresh', 'yt', 'yukon', 'yumna', 'yunu', 'yunustextile', 'zaaibhussain', 'zafar', 'zah', 'zahid', 'zaidi', 'zaina', 'zaitoon', 'zakat', 'zakoura', 'zameen', 'zamzama', 'zapier', 'zarorat', 'zarort', 'zeal', 'zeeshan', 'zehra', 'zero', 'zetatech', 'zeti', 'ziauddin', 'zilaprofil', 'zindagi', 'zineeb', 'zinemoham', 'ziyada', 'zkhirat', 'zonal', 'zone', 'zonecandid', 'zoo', 'zoom', 'zu', 'zz', 'zénith', 'zéro', 'âge', 'âgée', 'âme', 'ça', 'ème', 'éboueur', 'échang', 'échanger', 'échangé', 'échangés', 'échec', 'échell', 'échelon', 'écho', 'échouent', 'échoué', 'échéanc', 'éco', 'école', 'écomi', 'écomiqu', 'économi', 'économie', 'économiqu', 'écout', 'écrasant', 'écrit', 'éduc', 'éducat', 'éduqués', 'également', 'égide', 'église', 'égoïst', 'élabor', 'électriqu', 'électroménag', 'électroniqu', 'élimin', 'éliminait', 'élocut', 'éloigner', 'éloigné', 'élu', 'émanant', 'émané', 'éme', 'émotion', 'émue', 'énergi', 'énergétiqu', 'énorm', 'énormément', 'épanouiront', 'épanouiss', 'épicier', 'épidémi', 'épidémiologiqu', 'épreuve', 'éprouvant', 'épuisé', 'équilibr', 'équip', 'équipe', 'équipemai', 'équipementi', 'équipes', 'équival', 'éradiqu', 'établiss', 'étai', 'état', 'états', 'éternellement', 'éthiqu', 'étion', 'étonné', 'étranger', 'étrangèr', 'étude', 'études', 'étudiant', 'étudiants', 'étudié', 'évaluat', 'évaluer', 'éventuelle', 'évidem', 'évidement', 'éviter', 'évoluant', 'évolut', 'évolué', 'évoquer', 'évoqué', 'événement', 'ête', 'êtr', 'œil', 'œuvr', 'œuvrent', 'آثار', 'آلاف', 'آلة', 'أبسط', 'أبي', 'أتعهد', 'أجيالنا', 'أحد', 'أحمد', 'أحيي', 'أخرى', 'أخي', 'أدوية', 'أرسل', 'أزمة', 'أسامة', 'أصناف', 'أضع', 'أطفالكم', 'أغلبنا', 'أغلقت', 'أقسام', 'ألف', 'أمام', 'أمامكم', 'أمانتكم', 'أمراض', 'أمل', 'أميمة', 'أن', 'أنا', 'أندرويد', 'أنظمة', 'أنفسنا', 'أنفسهم', 'أنني', 'أنه', 'أهب', 'أهمها', 'أو', 'أول', 'أي', 'أيضا', 'إبن', 'إخبارها', 'إذا', 'إشتغال', 'إطار', 'إعداد', 'إلكترونية', 'إلى', 'إليك', 'إنا', 'اب', 'ابن', 'ات', 'اتصال', 'اتقضاو', 'اجازيكم', 'اجل', 'اجهزة', 'احتاجت', 'احفظ', 'احفظكوم', 'اخلص', 'اخليكومبزاف', 'استثمرنا', 'استخدامها', 'استراتيجية', 'استضافتي', 'اصبحبالإمكان', 'اصدار', 'اطفال', 'اطلاق', 'اعطيه', 'اعمالنا', 'افتراضية', 'اقرأ', 'اقصد', 'اكل', 'اكون', 'ال', 'الآخر', 'الآخرين', 'الآن', 'الأحياء', 'الأردن', 'الأرض', 'الأستاذة', 'الأسر', 'الأسفلالجوائز', 'الأطباء', 'الأطفال', 'الأمور', 'الأولوية', 'الأولى', 'الأونروا', 'الإجراءات', 'الإسرائيلي', 'الإصابة', 'الإعلان', 'الإنسانية', 'الا', 'الابعاد', 'الاتحادشروط', 'الاتحادنقدم', 'الاتصال', 'الاجتماعي', 'الادوات', 'الاردن', 'الازمةنكونوا', 'الاستفادة', 'الاشتراك', 'الاقتصادية', 'الاكل', 'الالة', 'الالكتروني', 'الالمان', 'الان', 'الانترنت', 'الانضمام', 'الاول', 'الايتام', 'البارحة', 'البرتغال', 'البرمجة', 'البطاقة', 'البقاء', 'البلاد', 'البلد', 'البيضاء', 'التآزر', 'التالي', 'التبرعات', 'التجربة', 'التحقق', 'التحية', 'التصنيعأتم', 'التضامن', 'التضامنية', 'التطبيق', 'التعلم', 'التعليم', 'التعليمية', 'التفاعليةالفرصة', 'التقني', 'التقنية', 'التقنيين', 'التنفس', 'التنمية', 'التواصل', 'التوعية', 'التي', 'الثالث', 'الثاني', 'الثمرة', 'الجائحة', 'الجامعة', 'الجانب', 'الجاهزة', 'الجبارة', 'الجميع', 'الجهاز', 'الجوي', 'الحاجة', 'الحبيب', 'الحجر', 'الحراسة', 'الحضوري', 'الحكمة', 'الحكومية', 'الخ', 'الخاص', 'الخاصة', 'الخدري', 'الخروج', 'الخطوط', 'الخيار', 'الدار', 'الدراسة', 'الدراسية', 'الدروس', 'الدليل', 'الدولة', 'الديانة', 'الذكي', 'الذي', 'الذين', 'الرابط', 'الرحيمة', 'الرقم', 'الزمو', 'السابقة', 'السادس', 'الساعة', 'السريعة', 'السعيدقمت', 'السلام', 'السمية', 'السيد', 'الشدائد', 'الشركات', 'الشعب', 'الشعبإنه', 'الشعبوبلد', 'الشكر', 'الشهري', 'الشويا', 'الصحةhashtag', 'الصحي', 'الصعيد', 'الصغاررابط', 'الصفر', 'الصناعات', 'الصناعي', 'الصنع', 'الصورة', 'الصين', 'الضغط', 'الضمان', 'الضمانات', 'الطائرة', 'الطبي', 'الطبية', 'الطرقات', 'الطلبة', 'الطوموبيل', 'الظروف', 'العالم', 'العالمتجربةالصين', 'العالمين', 'العراقيل', 'العسكر', 'العسكرية', 'العشر', 'العقل', 'العلام', 'العلم', 'العلمية', 'العمل', 'العودة', 'الغوث', 'الفئات', 'الفائدة', 'الفقراء', 'الفكرة', 'الفلوس', 'الفنادق', 'الفيروس', 'الفيروسات', 'القاتل', 'القطاع', 'القفة', 'القوية', 'القيروان', 'الكاملة', 'الكثير', 'الكفاء', 'الكود', 'الل', 'اللخر', 'اللسان', 'الله', 'اللهم', 'اللوجيستيكي', 'اللي', 'المال', 'المتقدم', 'المتواجدون', 'المجاورة', 'المجتمع', 'المجد', 'المحافظاتorang', 'المحتاج', 'المحتاجة', 'المحلية', 'المحنة', 'المدارس', 'المدني', 'المدينة', 'المراحل', 'المرجعية', 'المرجو', 'المرحلة', 'المرض', 'المركز', 'المساعدة', 'المستشفيات', 'المستويات', 'المسيحي', 'المشروع', 'المصابين', 'المصدر', 'المصنع', 'المعلومات', 'المعلوماتيين', 'المغاربة', 'المغرب', 'المغربhashtag', 'المغربي', 'المغربية', 'المقدمة', 'الملف', 'الملفات', 'الملكية', 'الممر', 'المنتوج', 'المنح', 'المنزل', 'المهتدين', 'المهتمة', 'المهندس', 'المواطنين', 'الموت', 'المودن', 'الموضوعين', 'الناس', 'النحوا', 'النشيد', 'النظام', 'النمرة', 'النموذج', 'النموذجية', 'الهاروشي', 'الهري', 'الهشة', 'الهندوسي', 'الهوية', 'الواليدين', 'الوباء', 'الوسواس', 'الوضع', 'الوطن', 'الوطني', 'الوطنية', 'الوقائي', 'الوقاية', 'الوكيل', 'الولوج', 'الى', 'اليد', 'اليه', 'اليوم', 'امان', 'امريكي', 'امريكيللتسجيل', 'انا', 'انتصروا', 'انتظموا', 'اندرويد', 'انسان', 'اهدنا', 'او', 'اوأطفال', 'اورنج', 'ايضا', 'بأعمالكم', 'بادرة', 'باذن', 'باش', 'باقتصاد', 'بال', 'بالانترنت', 'بالبيت', 'بالشارقة', 'بالمجانhashtag', 'بالمسابقة', 'بالمساهمة', 'بالمغرب', 'بالمواد', 'بالوقاية', 'بايتام', 'ببارطاج', 'بتحويل', 'بتنبيه', 'بجيانجسو', 'بحال', 'بحب', 'بخير', 'بدعم', 'بذلك', 'برامج', 'برفعه', 'بشتغل', 'بشكلها', 'بصنعه', 'بضمير', 'بطولات', 'بعبد', 'بعد', 'بعض', 'بعضياتهم', 'بغيتو', 'بغيتي', 'بقا', 'بقليل', 'بقى', 'بلا', 'بلادك', 'بلادكhashtag', 'بلادنا', 'بلدنا', 'بما', 'بمستشفى', 'بنا', 'بنايمكنكم', 'بنفس', 'بنك', 'به', 'بهاد', 'بهذا', 'بوحدهوم', 'بوينج', 'بين', 'بينما', 'بيه', 'تأمين', 'تا', 'تتجه', 'تتحققو', 'تتكلمhashtag', 'تتيح', 'تثق', 'تجربتين', 'تجريبه', 'تحت', 'تحتضن', 'تحتية', 'تحذير', 'تحمي', 'تحية', 'تختص', 'تخفيف', 'تخيلو', 'ترجمة', 'تركيبه', 'تزويد', 'تساعد', 'تساهم', 'تسد', 'تسلمناها', 'تسهل', 'تسويق', 'تسويقه', 'تصنيع', 'تضم', 'تضيع', 'تطبيق', 'تطوعي', 'تعالى', 'تعبئة', 'تعيطو', 'تغطية', 'تفوت', 'تقنع', 'تقومون', 'تكنولوجيا', 'تكون', 'تكوين', 'تمشي', 'تمويل', 'تنتصر', 'تنزل', 'تنعس', 'تواجه', 'توفير', 'توقفت', 'تويتر', 'ثلاثية', 'ثم', 'جامعة', 'جانبي', 'جد', 'جدي', 'جديدة', 'جماعة', 'جمع', 'جميع', 'جنود', 'جهاز', 'جهود', 'جيوش', 'حاجة', 'حاجيات', 'حاسوب', 'حالات', 'حاليا', 'حاول', 'حتا', 'حتى', 'حجر', 'حرب', 'حسابه', 'حسب', 'حسبي', 'حضرت', 'حظ', 'حفظ', 'حق', 'حلامك', 'حماية', 'حملات', 'حمي', 'حميد', 'حنا', 'حواسيب', 'حياتي', 'حيت', 'خاص', 'خدامين', 'خدمة', 'خطة', 'خفيفة', 'خلال', 'خليك', 'خليكـ', 'خودها', 'خير', 'داخل', 'داركم', 'دارولك', 'دازت', 'دراسي', 'دراسية', 'دراما', 'درت', 'دروس', 'دعت', 'دعم', 'دور', 'دولار', 'ديال', 'ديالك', 'ديالو', 'ديرو', 'ديك', 'ديورهوم', 'ديوها', 'ذاتي', 'ذكر', 'ذكية', 'ذمة', 'رأينا', 'رائع', 'راتب', 'راتبي', 'راجعون', 'راحنا', 'راسك', 'راسكم', 'راسنا', 'راه', 'رحبت', 'رحلة', 'ردنا', 'رسول', 'رشد', 'رضي', 'رغم', 'رهيب', 'رواد', 'رواه', 'رونالدو', 'زاد', 'زرعنا', 'زيد', 'ساق', 'سالمين', 'سبع', 'سبيل', 'ستارت', 'ستنقل', 'سجل', 'سعيد', 'سلامة', 'سلامتنا', 'سنة', 'سندان', 'سنوات', 'سيتم', 'سيدفع', 'شباب', 'شد', 'شر', 'شرائها', 'شرب', 'شركات', 'شركة', 'شعبية', 'شق', 'شقة', 'شكرا', 'شوية', 'شي', 'صاحبه', 'صحي', 'صحية', 'صديقي', 'صراع', 'صعيبة', 'صناعة', 'صنايع', 'صنع', 'صوب', 'ضاقت', 'ضحى', 'ضد', 'ضرورية', 'ضمن', 'طائرة', 'طاقات', 'طالب', 'طبية', 'طريق', 'طريقو', 'طلابها', 'طنجة', 'عاجل', 'عارف', 'عارفينش', 'عازلهؤلاء', 'عافاكم', 'عامة', 'عاملة', 'عانيو', 'عاونونا', 'عايزين', 'عايشين', 'عبرة', 'عدم', 'عز', 'عقولنا', 'علاجنا', 'علما', 'علمي', 'على', 'علينا', 'عليه', 'عليهم', 'عمال', 'عمر', 'عمرنا', 'عمرو', 'عمل', 'عملهم', 'عن', 'عنhashtag', 'عنا', 'عندك', 'عندو', 'عندوش', 'عنه', 'غادي', 'غانقدروش', 'غدا', 'غشت', 'غير', 'غيره', 'فأحياء', 'فإني', 'فالدارhashtag', 'فالسن', 'فالطوموبيل', 'فالمستعجلات', 'فايروس', 'فبلاصتنا', 'فدارك', 'فداركhashtag', 'فداركوم', 'فذكر', 'فراسكم', 'فراش', 'فرصة', 'فريدتين', 'فصلهم', 'فصول', 'فضارك', 'فضل', 'فعالية', 'فعاليته', 'فعل', 'فليجدعن', 'فليعد', 'فما', 'فمحلات', 'فنادق', 'فنادقه', 'فندق', 'فوق', 'في', 'فيروس', 'فين', 'فينا', 'فيه', 'فيها', 'قادر', 'قادرة', 'قار', 'قال', 'قبلت', 'قبلكم', 'قد', 'قدر', 'قديت', 'قسم', 'قصد', 'قول', 'كأنها', 'كائن', 'كاتصفر', 'كازاوا', 'كالصحة', 'كاملة', 'كان', 'كانحسو', 'كانذخلو', 'كانطلبو', 'كانعيشو', 'كانقلبو', 'كانواعدوكم', 'كبار', 'كبرها', 'كبير', 'كثرو', 'كرام', 'كرهتي', 'كريستيانو', 'كل', 'كلشي', 'كلنا', 'كلها', 'كليا', 'كما', 'كمستشفيات', 'كود', 'كورون', 'كورونا', 'كوروناhashtag', 'كي', 'كيف', 'كيفاش', 'كيفية', 'كين', 'لأحد', 'لأرباب', 'لأن', 'لأنه', 'لأي', 'لإبن', 'لا', 'لتتبع', 'لتشغيل', 'لتطوير', 'لتطويره', 'لتع', 'لتعليم', 'لتغطية', 'لتوزيع', 'لتوقف', 'لجميع', 'لحماية', 'لخطر', 'لداك', 'لدينا', 'لديه', 'لربي', 'لساكنة', 'لشركة', 'لصناعة', 'لصندوق', 'لطلبة', 'لعل', 'لعلها', 'لغيرك', 'لـ', 'لك', 'لكل', 'لكم', 'لكن', 'للآثار', 'للأذكى', 'للأطفال', 'للانعاش', 'للبولونيون', 'للتجريب', 'للتحميل', 'للتصنيع', 'للتنفس', 'للدروس', 'للروح', 'للشحن', 'للطاقم', 'للطلبة', 'للعباقرة', 'للمبرمجين', 'للمدارس', 'للمرض', 'للمساعدةhashtag', 'للمساهمة', 'للمشاركة', 'للمملكة', 'للمن', 'للمهندسين', 'للموظفين', 'للناس', 'لله', 'للي', 'لمبادرات', 'لمجموعة', 'لمستشفى', 'لملخيخة', 'لمواجهة', 'لمواصلة', 'لن', 'لنا', 'لنتحد', 'لنرتقي', 'له', 'لها', 'لهذا', 'لهم', 'لوحات', 'لوضع', 'لي', 'ليتأهلوا', 'ليس', 'ليقدموا', 'ليكم', 'لينا', 'ليه', 'مؤكدة', 'ما', 'مابين', 'ماتيعرف', 'ماركا', 'ماعندهومش', 'مبادرة', 'مباشرة', 'متضامن', 'متطوعة', 'متكاملة', 'متنوعة', 'مجانية', 'مجموعة', 'مجموعين', 'مجهوداتكم', 'مجهوداتهم', 'محتاج', 'محلي', 'محلية', 'محمد', 'مخصصة', 'مدارس', 'مدارسنا', 'مدرسة', 'مدينة', 'مرة', 'مرتاح', 'مركز', 'مريض', 'مزمنة', 'مسؤولين', 'مساعدة', 'مستاعدين', 'مستاعدينش', 'مستشفياتلعلاج', 'مستلزمات', 'مستمرة', 'مسلم', 'مشروع', 'مشكوك', 'مصطفىمراجعة', 'مصلحة', 'مصنع', 'مطرقة', 'مع', 'معاك', 'معانا', 'معدات', 'معكم', 'مغربي', 'مفتوح', 'مقدمة', 'مكافحة', 'مكلفة', 'مكون', 'مكونات', 'مكيتخلاوش', 'ملامسة', 'مليون', 'من', 'منا', 'منازلهم', 'منتوجه', 'منحة', 'منذ', 'منصة', 'منطلقا', 'منكم', 'مهم', 'مهمة', 'مواطنة', 'موفقcredit', 'ناس', 'ناصر', 'نتوادعو', 'نجاح', 'نجني', 'نحتاج', 'نحصد', 'نخدمو', 'نخرجو', 'نداء', 'نداؤنا', 'نردوها', 'نساء', 'نسامحو', 'نشره', 'نظرا', 'نعاونوكم', 'نعرضو', 'نعم', 'نفسي', 'نفقته', 'نقدم', 'نقدمو', 'نقلهاالسيد', 'نمشي', 'نوع', 'هاد', 'هادي', 'هام', 'هذ', 'هذا', 'هذه', 'هكا', 'هلو', 'هناك', 'هنينا', 'هو', 'هي', 'هيئة', 'وأماكن', 'وأهلينا', 'وأولياء', 'وإعادة', 'وإنا', 'وا', 'واتساعها', 'واجب', 'واجعلنا', 'واحد', 'واحلين', 'واخا', 'واش', 'واصلين', 'واعتماد', 'واعي', 'والأخلاق', 'والأوبئة', 'والتآخي', 'والتباهي', 'والتلاميذ', 'والجامعات', 'والعاملينفي', 'والمهندسين', 'واليدينا', 'واليوم', 'واهد', 'وب', 'وبتقدر', 'وبنك', 'وبنية', 'وتمويل', 'وجامعاتنا', 'وجل', 'وجميع', 'وجهه', 'وحمي', 'وزارة', 'وسائل', 'وسوء', 'وصفه', 'وصلنا', 'وضاقت', 'وطنية', 'وظف', 'وعلى', 'وغيرهم', 'وقف', 'وكالة', 'وكيفية', 'ولا', 'ولاد', 'ولدينا', 'ولعله', 'ولكن', 'ولن', 'ولو', 'وليداتهم', 'ومائتي', 'ومدارس', 'ومراعاة', 'ومشاركته', 'ومعارف', 'ومكروهمبادرة', 'ومن', 'ويرجعون', 'ويعجز', 'وين', 'وينجحون', 'يأمر', 'يا', 'يارب', 'ياسادةافتخر', 'يامغربي', 'يبحث', 'يتحدث', 'يتواصل', 'يتوفرون', 'يتوقف', 'يجب', 'يجيب', 'يحتاج', 'يخدم', 'يد', 'يدخلون', 'يرجى', 'يرحم', 'يستهين', 'يستوقفني', 'يسلفها', 'يصب', 'يصنع', 'يضع', 'يعاون', 'يعرف', 'يعملوا', 'يفتاخر', 'يقبل', 'يقوم', 'يكون', 'يمشى', 'يمكن', 'يمكنكم', 'يمكنه', 'يمكنها', 'ينجح', 'ينزل', 'يوضع', 'يوفرون', 'يوم', 'يومين', '𝐃𝐞𝐬𝐜𝐫𝐢𝐩𝐭𝐢𝐨𝐧', '𝐃𝐞𝐬𝐢𝐠𝐧𝐞𝐫', '𝐆𝐫𝐚𝐩𝐡𝐢𝐜', '𝐜𝐨𝐦', '𝐫𝐚𝐣𝐚𝐚𝐧𝐬𝐚𝐫', '𝐲𝐚𝐡𝐨𝐨', '𝗔𝗩𝗥𝗜𝗟', '𝗠𝗔𝗥𝗦', '𝗧𝗿𝗼𝘂𝘃𝗲𝘇', '𝗮𝘂', '𝗱𝘂', '𝘃𝗼𝘁𝗿𝗲']\n"
     ]
    }
   ],
   "source": [
    "print(vectorizer.get_feature_names())"
   ]
  },
  {
   "cell_type": "code",
   "execution_count": 83,
   "metadata": {},
   "outputs": [],
   "source": [
    "from sklearn.model_selection import train_test_split"
   ]
  },
  {
   "cell_type": "code",
   "execution_count": 84,
   "metadata": {},
   "outputs": [],
   "source": [
    "X_train, X_test, Y_train, Y_test = train_test_split(x, y, test_size=0.2, random_state=60)"
   ]
  },
  {
   "cell_type": "code",
   "execution_count": 85,
   "metadata": {},
   "outputs": [],
   "source": [
    "from sklearn.svm import SVC"
   ]
  },
  {
   "cell_type": "code",
   "execution_count": 86,
   "metadata": {
    "collapsed": true
   },
   "outputs": [
    {
     "data": {
      "text/plain": [
       "(976, 10040)"
      ]
     },
     "execution_count": 86,
     "metadata": {},
     "output_type": "execute_result"
    }
   ],
   "source": [
    "X_train.shape"
   ]
  },
  {
   "cell_type": "code",
   "execution_count": 87,
   "metadata": {},
   "outputs": [
    {
     "data": {
      "text/plain": [
       "(245, 10040)"
      ]
     },
     "execution_count": 87,
     "metadata": {},
     "output_type": "execute_result"
    }
   ],
   "source": [
    "X_test.shape"
   ]
  },
  {
   "cell_type": "code",
   "execution_count": 88,
   "metadata": {},
   "outputs": [
    {
     "data": {
      "text/plain": [
       "SVC(C=1.0, break_ties=False, cache_size=200, class_weight=None, coef0=0.0,\n",
       "    decision_function_shape='ovr', degree=3, gamma='scale', kernel='rbf',\n",
       "    max_iter=-1, probability=False, random_state=None, shrinking=True,\n",
       "    tol=0.001, verbose=False)"
      ]
     },
     "execution_count": 88,
     "metadata": {},
     "output_type": "execute_result"
    }
   ],
   "source": [
    "clf = SVC()\n",
    "clf.fit(X_train, Y_train)"
   ]
  },
  {
   "cell_type": "code",
   "execution_count": 90,
   "metadata": {},
   "outputs": [],
   "source": [
    "pr=clf.predict(X_test)"
   ]
  },
  {
   "cell_type": "code",
   "execution_count": 91,
   "metadata": {},
   "outputs": [
    {
     "name": "stdout",
     "output_type": "stream",
     "text": [
      "test precision = 91.0%\n"
     ]
    }
   ],
   "source": [
    "testprecision = accuracy_score(pr, Y_test)\n",
    "print(\"test precision = {}%\".format(round(testprecision * 100),1))"
   ]
  },
  {
   "cell_type": "markdown",
   "metadata": {},
   "source": [
    "# save model"
   ]
  },
  {
   "cell_type": "code",
   "execution_count": 108,
   "metadata": {},
   "outputs": [],
   "source": [
    "my_model = 'final_model.pkl'\n",
    "with open(my_model, 'wb') as file:  \n",
    "    pickle.dump(clf, file)"
   ]
  },
  {
   "cell_type": "markdown",
   "metadata": {},
   "source": [
    "# testing the model"
   ]
  },
  {
   "cell_type": "code",
   "execution_count": 106,
   "metadata": {},
   "outputs": [
    {
     "name": "stdout",
     "output_type": "stream",
     "text": [
      "<class 'pandas.core.series.Series'>\n"
     ]
    },
    {
     "data": {
      "text/plain": [
       "array([1, 1, 1, 0, 0, 0, 1, 1, 1, 1, 0, 1, 1, 1, 0, 1, 1, 0, 1, 0],\n",
       "      dtype=int64)"
      ]
     },
     "execution_count": 106,
     "metadata": {},
     "output_type": "execute_result"
    }
   ],
   "source": [
    "data20['description'] = data20['description'].apply(stemSentence)\n",
    "data20['description'] = data20['description'].apply(funct)\n",
    "\n",
    "tfidf_vectorizer = pickle.load(open(\"tfidf.pkl\", \"rb\"))\n",
    "new_dsc = tfidf_vectorizer.transform(data20['description'])\n",
    "print(type(data20['description']))\n",
    "\n",
    "my_model = 'final_model.pkl'\n",
    "with open(my_model, 'rb') as f:\n",
    "    model = pickle.load(f)\n",
    "    \n",
    "model.predict(new_dsc)"
   ]
  }
 ],
 "metadata": {
  "kernelspec": {
   "display_name": "Python 3",
   "language": "python",
   "name": "python3"
  },
  "language_info": {
   "codemirror_mode": {
    "name": "ipython",
    "version": 3
   },
   "file_extension": ".py",
   "mimetype": "text/x-python",
   "name": "python",
   "nbconvert_exporter": "python",
   "pygments_lexer": "ipython3",
   "version": "3.7.6"
  }
 },
 "nbformat": 4,
 "nbformat_minor": 2
}
